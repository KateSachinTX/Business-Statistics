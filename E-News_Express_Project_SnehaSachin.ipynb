{
 "cells": [
  {
   "cell_type": "markdown",
   "id": "68e440f4",
   "metadata": {},
   "source": [
    "# E-news Express Project\n",
    "## CONTEXT:\n",
    "#### An online news portal aims to expand its business by acquiring new subscribers. Every visitor to the website takes certain actions based on their interest. The company plans to analyze these interests and wants to determine whether a new feature will be effective or not. Companies often analyze users' responses to two variants of a product to decide which of the two variants is more effective. This experimental technique is known as a/b testing that is used to determine whether a new feature attracts users based on a chosen metric.\n",
    "\n",
    "#### The design team of the company has created a new landing page. Randomly 100 users are selected and divided equally into two groups. The old landing page is served to the first group (control group) and the new landing page is served to the second group (treatment group). Various data about the customers in both groups are collected in 'abtest.csv'. A statistical analysis must be performed to answer the following questions using the collected data.\n",
    "\n",
    "## OBJECTIVE:\n",
    "#### Statistical analysis of business data must be performed which includes exploration of the dataset and extracting insights from the data to answer the following questions:\n",
    "\n",
    "#### 1. Explore the dataset and extract insights using Exploratory Data Analysis.\n",
    "#### 2. Do the users spend more time on the new landing page than the old landing page?\n",
    "#### 3. Is the conversion rate (the proportion of users who visit the landing page and get converted) for the new page greater than the conversion rate for the old page?\n",
    "#### 4. Does the converted status depend on the preferred language? [Hint: Create a contingency table using the pandas.crosstab() function]\n",
    "#### 5.Is the mean time spent on the new page same for the different language users?\n",
    "**Considering a significance level of 0.05 for all tests**.\n",
    "\n",
    "\n",
    "## Data Dictionary:\n",
    "\n",
    "#### 1. user_id - This represents the user ID of the person visiting the website.\n",
    "#### 2. group - This represents whether the user belongs to the first group (control) or the second group (treatment).\n",
    "#### 3. landing_page - This represents whether the landing page is new or old.\n",
    "#### 4. time_spent_on_the_page - This represents the time (in minutes) spent by the user on the landing page.\n",
    "#### 5. converted - This represents whether the user gets converted to a subscriber of the news portal or not.\n",
    "#### 6. language_preferred - This represents the language chosen by the user to view the landing page.\n"
   ]
  },
  {
   "cell_type": "markdown",
   "id": "c367fbf6",
   "metadata": {},
   "source": [
    "### Let us start by importing the required libraries"
   ]
  },
  {
   "cell_type": "code",
   "execution_count": 1,
   "id": "04ebbd94",
   "metadata": {},
   "outputs": [],
   "source": [
    "# import the important packages\n",
    "import pandas as pd  # library used for data manipulation and analysis\n",
    "import numpy as np  # library used for working with arrays\n",
    "import matplotlib.pyplot as plt  # library for plots and visualizations\n",
    "import seaborn as sns  # library for visualizations\n",
    "\n",
    "%matplotlib inline\n",
    "\n",
    "import scipy.stats as stats  # library import for probability distributions as well as statistical functions\n",
    "import scipy\n",
    "from scipy.stats import binom\n",
    "from scipy.stats import uniform\n",
    "from scipy.stats import norm\n",
    "from scipy.stats import expon\n",
    "from scipy.stats import t"
   ]
  },
  {
   "cell_type": "markdown",
   "id": "b2fa47f9",
   "metadata": {},
   "source": [
    "### Understanding the structure of the data"
   ]
  },
  {
   "cell_type": "code",
   "execution_count": 2,
   "id": "c002f1fe",
   "metadata": {
    "scrolled": true
   },
   "outputs": [
    {
     "data": {
      "text/html": [
       "<div>\n",
       "<style scoped>\n",
       "    .dataframe tbody tr th:only-of-type {\n",
       "        vertical-align: middle;\n",
       "    }\n",
       "\n",
       "    .dataframe tbody tr th {\n",
       "        vertical-align: top;\n",
       "    }\n",
       "\n",
       "    .dataframe thead th {\n",
       "        text-align: right;\n",
       "    }\n",
       "</style>\n",
       "<table border=\"1\" class=\"dataframe\">\n",
       "  <thead>\n",
       "    <tr style=\"text-align: right;\">\n",
       "      <th></th>\n",
       "      <th>user_id</th>\n",
       "      <th>group</th>\n",
       "      <th>landing_page</th>\n",
       "      <th>time_spent_on_the_page</th>\n",
       "      <th>converted</th>\n",
       "      <th>language_preferred</th>\n",
       "    </tr>\n",
       "  </thead>\n",
       "  <tbody>\n",
       "    <tr>\n",
       "      <th>0</th>\n",
       "      <td>546592</td>\n",
       "      <td>control</td>\n",
       "      <td>old</td>\n",
       "      <td>3.48</td>\n",
       "      <td>no</td>\n",
       "      <td>Spanish</td>\n",
       "    </tr>\n",
       "    <tr>\n",
       "      <th>1</th>\n",
       "      <td>546468</td>\n",
       "      <td>treatment</td>\n",
       "      <td>new</td>\n",
       "      <td>7.13</td>\n",
       "      <td>yes</td>\n",
       "      <td>English</td>\n",
       "    </tr>\n",
       "    <tr>\n",
       "      <th>2</th>\n",
       "      <td>546462</td>\n",
       "      <td>treatment</td>\n",
       "      <td>new</td>\n",
       "      <td>4.40</td>\n",
       "      <td>no</td>\n",
       "      <td>Spanish</td>\n",
       "    </tr>\n",
       "    <tr>\n",
       "      <th>3</th>\n",
       "      <td>546567</td>\n",
       "      <td>control</td>\n",
       "      <td>old</td>\n",
       "      <td>3.02</td>\n",
       "      <td>no</td>\n",
       "      <td>French</td>\n",
       "    </tr>\n",
       "    <tr>\n",
       "      <th>4</th>\n",
       "      <td>546459</td>\n",
       "      <td>treatment</td>\n",
       "      <td>new</td>\n",
       "      <td>4.75</td>\n",
       "      <td>yes</td>\n",
       "      <td>Spanish</td>\n",
       "    </tr>\n",
       "  </tbody>\n",
       "</table>\n",
       "</div>"
      ],
      "text/plain": [
       "   user_id      group landing_page  time_spent_on_the_page converted  \\\n",
       "0   546592    control          old                    3.48        no   \n",
       "1   546468  treatment          new                    7.13       yes   \n",
       "2   546462  treatment          new                    4.40        no   \n",
       "3   546567    control          old                    3.02        no   \n",
       "4   546459  treatment          new                    4.75       yes   \n",
       "\n",
       "  language_preferred  \n",
       "0            Spanish  \n",
       "1            English  \n",
       "2            Spanish  \n",
       "3             French  \n",
       "4            Spanish  "
      ]
     },
     "execution_count": 2,
     "metadata": {},
     "output_type": "execute_result"
    }
   ],
   "source": [
    "# read the data\n",
    "df = pd.read_csv('abtest.csv')\n",
    "# returns the first 5 rows\n",
    "df.head()"
   ]
  },
  {
   "cell_type": "markdown",
   "id": "ca680eba",
   "metadata": {},
   "source": [
    "#### Observations:\n",
    "\n",
    "The DataFrame has 6 columns as mentioned in the Data Dictionary. Data in each row corresponds to the time spent on the page with their rate of conversion and the preferred language opted by the customer."
   ]
  },
  {
   "cell_type": "markdown",
   "id": "cc8f8242",
   "metadata": {},
   "source": [
    "### Exploratory Data Analysis (EDA)"
   ]
  },
  {
   "cell_type": "markdown",
   "id": "c982e2f3",
   "metadata": {},
   "source": [
    "## Univariate Analysis"
   ]
  },
  {
   "cell_type": "code",
   "execution_count": 3,
   "id": "7fca0653",
   "metadata": {},
   "outputs": [
    {
     "data": {
      "text/plain": [
       "(100, 6)"
      ]
     },
     "execution_count": 3,
     "metadata": {},
     "output_type": "execute_result"
    }
   ],
   "source": [
    "# Shape of dataset\n",
    "df.shape"
   ]
  },
  {
   "cell_type": "markdown",
   "id": "351a041e",
   "metadata": {},
   "source": [
    "#### Observations:\n",
    "\n",
    "* The DataFrame has 100 rows and 6 columns."
   ]
  },
  {
   "cell_type": "code",
   "execution_count": 4,
   "id": "2f3af3c9",
   "metadata": {
    "scrolled": true
   },
   "outputs": [
    {
     "name": "stdout",
     "output_type": "stream",
     "text": [
      "<class 'pandas.core.frame.DataFrame'>\n",
      "RangeIndex: 100 entries, 0 to 99\n",
      "Data columns (total 6 columns):\n",
      " #   Column                  Non-Null Count  Dtype  \n",
      "---  ------                  --------------  -----  \n",
      " 0   user_id                 100 non-null    int64  \n",
      " 1   group                   100 non-null    object \n",
      " 2   landing_page            100 non-null    object \n",
      " 3   time_spent_on_the_page  100 non-null    float64\n",
      " 4   converted               100 non-null    object \n",
      " 5   language_preferred      100 non-null    object \n",
      "dtypes: float64(1), int64(1), object(4)\n",
      "memory usage: 4.8+ KB\n"
     ]
    }
   ],
   "source": [
    "# summary of the DataFrame\n",
    "df.info()"
   ]
  },
  {
   "cell_type": "markdown",
   "id": "44626631",
   "metadata": {},
   "source": [
    "#### Observations:\n",
    "* There are a total of 100 non-null observations in each of the columns.\n",
    "\n",
    "* The dataset contains 6 columns: 1 is of integer type ('user-id'), 1 is of floating point type ('time_spent_on_the_page') and 4 are of the general object type ('group', 'landing_page', 'converted', 'language_preferred').\n",
    "\n",
    "* Total memory usage is approximately 4.8 KB.\n"
   ]
  },
  {
   "cell_type": "code",
   "execution_count": 5,
   "id": "74b8936d",
   "metadata": {
    "scrolled": true
   },
   "outputs": [
    {
     "name": "stdout",
     "output_type": "stream",
     "text": [
      "<class 'pandas.core.frame.DataFrame'>\n",
      "RangeIndex: 100 entries, 0 to 99\n",
      "Data columns (total 6 columns):\n",
      " #   Column                  Non-Null Count  Dtype   \n",
      "---  ------                  --------------  -----   \n",
      " 0   user_id                 100 non-null    int64   \n",
      " 1   group                   100 non-null    category\n",
      " 2   landing_page            100 non-null    category\n",
      " 3   time_spent_on_the_page  100 non-null    float64 \n",
      " 4   converted               100 non-null    category\n",
      " 5   language_preferred      100 non-null    category\n",
      "dtypes: category(4), float64(1), int64(1)\n",
      "memory usage: 2.6 KB\n"
     ]
    }
   ],
   "source": [
    "# converting \"objects\" to \"category\" to reduce data space required to store the dataframe\n",
    "# code to convert 'group', 'landing_page', 'converted', 'language_preferred' into categorical data\n",
    "df.group = df.group.astype('category')     # Convert group from object to category\n",
    "df.landing_page = df.landing_page.astype('category')           # Convert landing page from object to category\n",
    "df.converted = df.converted.astype('category')     # Convert converted from object to category\n",
    "df.language_preferred = df.language_preferred.astype('category')     # Convert language_preferred from object to category\n",
    "# summary of the revised DataFrame\n",
    "df.info()"
   ]
  },
  {
   "cell_type": "markdown",
   "id": "ef7ec58e",
   "metadata": {},
   "source": [
    "#### Observations:\n",
    "\n",
    "* 'group', 'landing_page', 'language_preferred' and 'converted' are now converted into categorical values.\n",
    "\n",
    "* Total memory usage has decreased now.\n"
   ]
  },
  {
   "cell_type": "code",
   "execution_count": 6,
   "id": "870ef590",
   "metadata": {
    "scrolled": false
   },
   "outputs": [
    {
     "data": {
      "text/html": [
       "<div>\n",
       "<style scoped>\n",
       "    .dataframe tbody tr th:only-of-type {\n",
       "        vertical-align: middle;\n",
       "    }\n",
       "\n",
       "    .dataframe tbody tr th {\n",
       "        vertical-align: top;\n",
       "    }\n",
       "\n",
       "    .dataframe thead th {\n",
       "        text-align: right;\n",
       "    }\n",
       "</style>\n",
       "<table border=\"1\" class=\"dataframe\">\n",
       "  <thead>\n",
       "    <tr style=\"text-align: right;\">\n",
       "      <th></th>\n",
       "      <th>count</th>\n",
       "      <th>mean</th>\n",
       "      <th>std</th>\n",
       "      <th>min</th>\n",
       "      <th>25%</th>\n",
       "      <th>50%</th>\n",
       "      <th>75%</th>\n",
       "      <th>max</th>\n",
       "    </tr>\n",
       "  </thead>\n",
       "  <tbody>\n",
       "    <tr>\n",
       "      <th>user_id</th>\n",
       "      <td>100.0</td>\n",
       "      <td>546517.0000</td>\n",
       "      <td>52.295779</td>\n",
       "      <td>546443.00</td>\n",
       "      <td>546467.75</td>\n",
       "      <td>546492.500</td>\n",
       "      <td>546567.2500</td>\n",
       "      <td>546592.00</td>\n",
       "    </tr>\n",
       "    <tr>\n",
       "      <th>time_spent_on_the_page</th>\n",
       "      <td>100.0</td>\n",
       "      <td>5.3778</td>\n",
       "      <td>2.378166</td>\n",
       "      <td>0.19</td>\n",
       "      <td>3.88</td>\n",
       "      <td>5.415</td>\n",
       "      <td>7.0225</td>\n",
       "      <td>10.71</td>\n",
       "    </tr>\n",
       "  </tbody>\n",
       "</table>\n",
       "</div>"
      ],
      "text/plain": [
       "                        count         mean        std        min        25%  \\\n",
       "user_id                 100.0  546517.0000  52.295779  546443.00  546467.75   \n",
       "time_spent_on_the_page  100.0       5.3778   2.378166       0.19       3.88   \n",
       "\n",
       "                               50%          75%        max  \n",
       "user_id                 546492.500  546567.2500  546592.00  \n",
       "time_spent_on_the_page       5.415       7.0225      10.71  "
      ]
     },
     "execution_count": 6,
     "metadata": {},
     "output_type": "execute_result"
    }
   ],
   "source": [
    "# summary statistics of the numerical data\n",
    "df.describe().T"
   ]
  },
  {
   "cell_type": "markdown",
   "id": "882cdbac",
   "metadata": {},
   "source": [
    "#### Observations:\n",
    "\n",
    "* Time spent on the page ranges from 0.19 minutes to 10.71 minutes, with an average of around 5.37 minutes and a standard deviation of 2.37 minutes. \n"
   ]
  },
  {
   "cell_type": "markdown",
   "id": "92899628",
   "metadata": {},
   "source": [
    "#### User ID"
   ]
  },
  {
   "cell_type": "code",
   "execution_count": 7,
   "id": "f16ebb00",
   "metadata": {},
   "outputs": [
    {
     "data": {
      "text/plain": [
       "(100,)"
      ]
     },
     "execution_count": 7,
     "metadata": {},
     "output_type": "execute_result"
    }
   ],
   "source": [
    "# check unique user ID\n",
    "df['user_id'].value_counts().shape"
   ]
  },
  {
   "cell_type": "markdown",
   "id": "7c4f48b2",
   "metadata": {},
   "source": [
    "#### Observations:\n",
    "\n",
    "* There are 100 user ids. As mentioned earlier, 'user-id' is just an identifier for the customers."
   ]
  },
  {
   "cell_type": "markdown",
   "id": "dfd0128f",
   "metadata": {},
   "source": [
    "#### Group"
   ]
  },
  {
   "cell_type": "code",
   "execution_count": 8,
   "id": "b1868c99",
   "metadata": {
    "scrolled": false
   },
   "outputs": [
    {
     "data": {
      "text/plain": [
       "control      50\n",
       "treatment    50\n",
       "Name: group, dtype: int64"
      ]
     },
     "execution_count": 8,
     "metadata": {},
     "output_type": "execute_result"
    }
   ],
   "source": [
    "# check grouping type count\n",
    "df['group'].value_counts()"
   ]
  },
  {
   "cell_type": "markdown",
   "id": "a3bde230",
   "metadata": {},
   "source": [
    "#### Observations:\n",
    "\n",
    "* Out of 100 users in the data set, there are 50 users in control group (old landing page) and 50 users in treatment group (new landing page). "
   ]
  },
  {
   "cell_type": "code",
   "execution_count": 9,
   "id": "a061e333",
   "metadata": {
    "scrolled": false
   },
   "outputs": [
    {
     "data": {
      "text/plain": [
       "new    50\n",
       "old    50\n",
       "Name: landing_page, dtype: int64"
      ]
     },
     "execution_count": 9,
     "metadata": {},
     "output_type": "execute_result"
    }
   ],
   "source": [
    "# check landing page count\n",
    "df['landing_page'].value_counts()"
   ]
  },
  {
   "cell_type": "markdown",
   "id": "a627aa4f",
   "metadata": {},
   "source": [
    "#### Observations:\n",
    "\n",
    "* There are 50 counts of new landing page and 50 counts of old landing page. "
   ]
  },
  {
   "cell_type": "code",
   "execution_count": 10,
   "id": "b7fc9067",
   "metadata": {
    "scrolled": true
   },
   "outputs": [
    {
     "data": {
      "text/plain": [
       "yes    54\n",
       "no     46\n",
       "Name: converted, dtype: int64"
      ]
     },
     "execution_count": 10,
     "metadata": {},
     "output_type": "execute_result"
    }
   ],
   "source": [
    "# check total number of conversions by YES and NO\n",
    "df['converted'].value_counts()"
   ]
  },
  {
   "cell_type": "markdown",
   "id": "c05b0c96",
   "metadata": {
    "scrolled": true
   },
   "source": [
    "#### Observations:\n",
    "\n",
    "* Out of overall 100 users in data set, 54 users converted to subscribers and 46 did not convert. Note that the 54 users belonged to both control group as well as treatment group. "
   ]
  },
  {
   "cell_type": "code",
   "execution_count": 11,
   "id": "556c8954",
   "metadata": {
    "scrolled": true
   },
   "outputs": [
    {
     "data": {
      "text/plain": [
       "French     34\n",
       "Spanish    34\n",
       "English    32\n",
       "Name: language_preferred, dtype: int64"
      ]
     },
     "execution_count": 11,
     "metadata": {},
     "output_type": "execute_result"
    }
   ],
   "source": [
    "# check preferred language count\n",
    "df['language_preferred'].value_counts()"
   ]
  },
  {
   "cell_type": "markdown",
   "id": "c42ff2d9",
   "metadata": {},
   "source": [
    "#### Observations:\n",
    "\n",
    "* The split of preferred languages out of overall 100 users is - 34 French, 34 Spanish and remaining 32 English readers."
   ]
  },
  {
   "cell_type": "markdown",
   "id": "864e60f9",
   "metadata": {},
   "source": [
    "## Exploratory Data Analysis"
   ]
  },
  {
   "cell_type": "markdown",
   "id": "f2d4b0b1",
   "metadata": {},
   "source": [
    "## Univariate Analysis"
   ]
  },
  {
   "cell_type": "code",
   "execution_count": 12,
   "id": "b32a46ae",
   "metadata": {},
   "outputs": [],
   "source": [
    "# function to plot a boxplot and a histogram along the same scale.\n",
    "\n",
    "def histogram_boxplot(data, feature, figsize=(12, 7), kde=False, bins=None):\n",
    "    \"\"\"\n",
    "    Boxplot and histogram combined\n",
    "\n",
    "    data: dataframe\n",
    "    feature: dataframe column\n",
    "    figsize: size of figure (default (12,7))\n",
    "    kde: whether to show the density curve (default False)\n",
    "    bins: number of bins for histogram (default None)\n",
    "    \"\"\"\n",
    "    f2, (ax_box2, ax_hist2) = plt.subplots(\n",
    "        nrows=2,  # Number of rows of the subplot grid= 2\n",
    "        sharex=True,  # x-axis will be shared among all subplots\n",
    "        gridspec_kw={\"height_ratios\": (0.25, 0.75)},\n",
    "        figsize=figsize,\n",
    "    )  # creating the 2 subplots\n",
    "    sns.boxplot(\n",
    "        data=data, x=feature, ax=ax_box2, showmeans=True, color=\"violet\"\n",
    "    )  # boxplot will be created and a star will indicate the mean value of the column\n",
    "    sns.histplot(\n",
    "        data=data, x=feature, kde=kde, ax=ax_hist2, bins=bins, palette=\"winter\"\n",
    "    ) if bins else sns.histplot(\n",
    "        data=data, x=feature, kde=kde, ax=ax_hist2\n",
    "    )  # For histogram\n",
    "    ax_hist2.axvline(\n",
    "        data[feature].mean(), color=\"green\", linestyle=\"--\"\n",
    "    )  # Add mean to the histogram\n",
    "    ax_hist2.axvline(\n",
    "        data[feature].median(), color=\"black\", linestyle=\"-\"\n",
    "    )  # Add median to the histogram"
   ]
  },
  {
   "cell_type": "code",
   "execution_count": 13,
   "id": "e6eb3ccd",
   "metadata": {},
   "outputs": [],
   "source": [
    "# function to create labeled barplots\n",
    "\n",
    "\n",
    "def labeled_barplot(data, feature, perc=False, n=None):\n",
    "    \"\"\"\n",
    "    Barplot with percentage at the top\n",
    "\n",
    "    data: dataframe\n",
    "    feature: dataframe column\n",
    "    perc: whether to display percentages instead of count (default is False)\n",
    "    n: displays the top n category levels (default is None, i.e., display all levels)\n",
    "    \"\"\"\n",
    "\n",
    "    total = len(data[feature])  # length of the column\n",
    "    count = data[feature].nunique()\n",
    "    if n is None:\n",
    "        plt.figure(figsize=(count + 1, 5))\n",
    "    else:\n",
    "        plt.figure(figsize=(n + 1, 5))\n",
    "\n",
    "    plt.xticks(rotation=90, fontsize=15)\n",
    "    ax = sns.countplot(\n",
    "        data=data,\n",
    "        x=feature,\n",
    "        palette=\"Paired\",\n",
    "        order=data[feature].value_counts().index[:n].sort_values(),\n",
    "    )\n",
    "\n",
    "    for p in ax.patches:\n",
    "        if perc == True:\n",
    "            label = \"{:.1f}%\".format(\n",
    "                100 * p.get_height() / total\n",
    "            )  # percentage of each class of the category\n",
    "        else:\n",
    "            label = p.get_height()  # count of each level of the category\n",
    "\n",
    "        x = p.get_x() + p.get_width() / 2  # width of the plot\n",
    "        y = p.get_height()  # height of the plot\n",
    "\n",
    "        ax.annotate(\n",
    "            label,\n",
    "            (x, y),\n",
    "            ha=\"center\",\n",
    "            va=\"center\",\n",
    "            size=12,\n",
    "            xytext=(0, 5),\n",
    "            textcoords=\"offset points\",\n",
    "        )  # annotate the percentage\n",
    "\n",
    "    plt.show()  # show the plot"
   ]
  },
  {
   "cell_type": "markdown",
   "id": "eee6ebad",
   "metadata": {},
   "source": [
    "### Types of Group"
   ]
  },
  {
   "cell_type": "code",
   "execution_count": 14,
   "id": "72331c86",
   "metadata": {
    "scrolled": false
   },
   "outputs": [
    {
     "data": {
      "image/png": "[encoded data removed]",
      "text/plain": [
       "<Figure size 216x360 with 1 Axes>"
      ]
     },
     "metadata": {
      "needs_background": "light"
     },
     "output_type": "display_data"
    }
   ],
   "source": [
    "labeled_barplot(df, 'group', perc=True)"
   ]
  },
  {
   "cell_type": "markdown",
   "id": "c92e3cec",
   "metadata": {},
   "source": [
    "### Observation:\n",
    "* There are two kinds of groups-which is control and treatment.\n",
    "* 50% are from control group and 50% are from treatment group.\n",
    "* The above plot says that the overall users are equally distributed among the control group and treatment group."
   ]
  },
  {
   "cell_type": "markdown",
   "id": "34fca402",
   "metadata": {},
   "source": [
    "### Language Preferred:"
   ]
  },
  {
   "cell_type": "code",
   "execution_count": 15,
   "id": "bdfb6a61",
   "metadata": {},
   "outputs": [
    {
     "data": {
      "text/plain": [
       "French     34\n",
       "Spanish    34\n",
       "English    32\n",
       "Name: language_preferred, dtype: int64"
      ]
     },
     "execution_count": 15,
     "metadata": {},
     "output_type": "execute_result"
    }
   ],
   "source": [
    "# check preferred language count\n",
    "df['language_preferred'].value_counts()"
   ]
  },
  {
   "cell_type": "code",
   "execution_count": 16,
   "id": "55eb6dee",
   "metadata": {
    "scrolled": false
   },
   "outputs": [
    {
     "data": {
      "image/png": "[encoded data removed]",
      "text/plain": [
       "<Figure size 288x360 with 1 Axes>"
      ]
     },
     "metadata": {
      "needs_background": "light"
     },
     "output_type": "display_data"
    }
   ],
   "source": [
    "labeled_barplot(df, 'language_preferred', perc=False)"
   ]
  },
  {
   "cell_type": "markdown",
   "id": "4870c090",
   "metadata": {},
   "source": [
    "#### Observations:\n",
    "\n",
    "* From the overall dataset, there are 3 unique language groups in the dataset which is English, Spanish and French.\n",
    "* There are equal readers in Spanish and French language at 34 users, however the English readers is slightly less compared to the other two at 32 users.\n",
    "* The above plot tells us that french and Spanish readers are slightly more than the English readers.\n",
    "\n"
   ]
  },
  {
   "cell_type": "markdown",
   "id": "1eeef288",
   "metadata": {},
   "source": [
    "### Time spent on the page"
   ]
  },
  {
   "cell_type": "code",
   "execution_count": 17,
   "id": "6fab762d",
   "metadata": {
    "scrolled": true
   },
   "outputs": [
    {
     "name": "stdout",
     "output_type": "stream",
     "text": [
      "5.377800000000002\n",
      "0.19\n",
      "10.71\n"
     ]
    }
   ],
   "source": [
    "print(df['time_spent_on_the_page'].mean())\n",
    "print(df['time_spent_on_the_page'].min())\n",
    "print(df['time_spent_on_the_page'].max())"
   ]
  },
  {
   "cell_type": "code",
   "execution_count": 18,
   "id": "c3bc7979",
   "metadata": {
    "scrolled": false
   },
   "outputs": [
    {
     "data": {
      "image/png": "[encoded data removed]",
      "text/plain": [
       "<Figure size 864x504 with 2 Axes>"
      ]
     },
     "metadata": {
      "needs_background": "light"
     },
     "output_type": "display_data"
    }
   ],
   "source": [
    "histogram_boxplot(df, 'time_spent_on_the_page')"
   ]
  },
  {
   "cell_type": "markdown",
   "id": "d09f2f87",
   "metadata": {},
   "source": [
    "#### Observations:\n",
    "\n",
    "* The above plot shows that the time variable is normally distributed across the dataset.\n",
    "* The mode of the distribution indicates that a large chunk of users spend around 4 to 6 minutes on the landing page,the average time being around 5.37 minutes.\n",
    "* The plot also tells that there are more users who are spending more than 5 minutes on the landing page compared to the users spending less than 5 minutes.\n"
   ]
  },
  {
   "cell_type": "markdown",
   "id": "2cf0c072",
   "metadata": {},
   "source": [
    "### Conversion Rate"
   ]
  },
  {
   "cell_type": "code",
   "execution_count": 19,
   "id": "5081a4d2",
   "metadata": {},
   "outputs": [
    {
     "data": {
      "text/plain": [
       "yes    54\n",
       "no     46\n",
       "Name: converted, dtype: int64"
      ]
     },
     "execution_count": 19,
     "metadata": {},
     "output_type": "execute_result"
    }
   ],
   "source": [
    "# check total number of conversions by YES and NO\n",
    "df['converted'].value_counts()"
   ]
  },
  {
   "cell_type": "code",
   "execution_count": 20,
   "id": "17609dd1",
   "metadata": {
    "scrolled": true
   },
   "outputs": [
    {
     "data": {
      "image/png": "[encoded data removed]",
      "text/plain": [
       "<Figure size 216x360 with 1 Axes>"
      ]
     },
     "metadata": {
      "needs_background": "light"
     },
     "output_type": "display_data"
    }
   ],
   "source": [
    "labeled_barplot(df, 'converted', perc=False)"
   ]
  },
  {
   "cell_type": "markdown",
   "id": "2b9f68d4",
   "metadata": {},
   "source": [
    "#### Observations:\n",
    "\n",
    "* From the overall dataset,it appears to be that the rate of conversion is higher when compared to the ones who have not converted.\n",
    "* The above plot tells us that out of overall 100 users, 54 users have converted while the rest 46 have not. However we do know that there are two landing page(old & new), we will see how the distribution works when the language of the users is considered in the multivariate analysis.\n"
   ]
  },
  {
   "cell_type": "markdown",
   "id": "8dfa22fd",
   "metadata": {},
   "source": [
    "## Multivariate Analysis"
   ]
  },
  {
   "cell_type": "markdown",
   "id": "f9d25486",
   "metadata": {},
   "source": [
    "### Language preferred vs Conversion rate"
   ]
  },
  {
   "cell_type": "code",
   "execution_count": 21,
   "id": "fded4ca0",
   "metadata": {
    "scrolled": false
   },
   "outputs": [
    {
     "data": {
      "image/png": "[encoded data removed]",
      "text/plain": [
       "<Figure size 288x360 with 1 Axes>"
      ]
     },
     "metadata": {
      "needs_background": "light"
     },
     "output_type": "display_data"
    }
   ],
   "source": [
    "conv = df.loc[df[\"converted\"] == \"yes\"]\n",
    "labeled_barplot(conv, 'language_preferred', perc=False)"
   ]
  },
  {
   "cell_type": "markdown",
   "id": "6ca2efd4",
   "metadata": {},
   "source": [
    "#### Observations:\n",
    "* The above plot clearly shows out of 54 users who converted, 21 are English readers, 15 are French readers and 18 are Spanish readers.\n",
    "* The conversion rate of the English and Spanish users is high while French readers dont seem to convert after reading the landing page."
   ]
  },
  {
   "cell_type": "markdown",
   "id": "d8524caa",
   "metadata": {},
   "source": [
    "### Conversion rate with the old and new landing page"
   ]
  },
  {
   "cell_type": "code",
   "execution_count": 22,
   "id": "47a23303",
   "metadata": {
    "scrolled": false
   },
   "outputs": [
    {
     "data": {
      "image/png": "[encoded data removed]",
      "text/plain": [
       "<Figure size 288x360 with 1 Axes>"
      ]
     },
     "metadata": {
      "needs_background": "light"
     },
     "output_type": "display_data"
    }
   ],
   "source": [
    "oldlp = conv.loc[conv[\"landing_page\"] == \"old\"]\n",
    "labeled_barplot(oldlp, 'language_preferred', perc=False)"
   ]
  },
  {
   "cell_type": "markdown",
   "id": "8e047edc",
   "metadata": {},
   "source": [
    "#### Observations:\n",
    "* The above plot shows the conversion rate by users using the old landing page.\n",
    "* Out of 54 people who became subscribers, 21 users were using the old landing page.\n",
    "* Out of 21 users using the old landing page, 11 users are English, 3 are French and 7 are Spanish readers.\n",
    "* English people seem to subscribe more using the old landing page."
   ]
  },
  {
   "cell_type": "code",
   "execution_count": 23,
   "id": "d91192f8",
   "metadata": {
    "scrolled": false
   },
   "outputs": [
    {
     "data": {
      "image/png": "[encoded data removed]",
      "text/plain": [
       "<Figure size 288x360 with 1 Axes>"
      ]
     },
     "metadata": {
      "needs_background": "light"
     },
     "output_type": "display_data"
    }
   ],
   "source": [
    "newlp = conv.loc[conv[\"landing_page\"] == \"new\"]\n",
    "labeled_barplot(newlp, 'language_preferred', perc=False)"
   ]
  },
  {
   "cell_type": "markdown",
   "id": "e780b1c5",
   "metadata": {},
   "source": [
    "#### Observations:\n",
    "* The above plot shows the conversion rate by users using the new landing page.\n",
    "* Out of 54 users who converted, 33 users have used the new landing page.\n",
    "* Out of 33 users, 10 users are English, 12 are French and 11 are Spanish readers.\n",
    "* The rate of conversion for French readers has significantly improved for the new landing page when compared to the old landing page.\n",
    "* The above plot shows that the new landing page is being successful in making the users subscribe more."
   ]
  },
  {
   "cell_type": "markdown",
   "id": "3861c665",
   "metadata": {},
   "source": [
    "### Landing Page vs Time Spent on the Page"
   ]
  },
  {
   "cell_type": "code",
   "execution_count": 24,
   "id": "de762d5d",
   "metadata": {
    "scrolled": true
   },
   "outputs": [
    {
     "data": {
      "text/plain": [
       "landing_page\n",
       "new    6.2232\n",
       "old    4.5324\n",
       "Name: time_spent_on_the_page, dtype: float64"
      ]
     },
     "execution_count": 24,
     "metadata": {},
     "output_type": "execute_result"
    }
   ],
   "source": [
    "df.groupby('landing_page')['time_spent_on_the_page'].mean()"
   ]
  },
  {
   "cell_type": "code",
   "execution_count": 25,
   "id": "faf5b140",
   "metadata": {
    "scrolled": false
   },
   "outputs": [
    {
     "data": {
      "image/png": "[encoded data removed]",
      "text/plain": [
       "<Figure size 1080x504 with 1 Axes>"
      ]
     },
     "metadata": {
      "needs_background": "light"
     },
     "output_type": "display_data"
    }
   ],
   "source": [
    "# Relationship between landing page and time spent on the page.\n",
    "plt.figure(figsize=(15,7))\n",
    "sns.boxplot(x = \"landing_page\", y = \"time_spent_on_the_page\", data = df, palette = 'PuBu')\n",
    "plt.xticks(rotation = 60)\n",
    "plt.show()"
   ]
  },
  {
   "cell_type": "markdown",
   "id": "e417eade",
   "metadata": {},
   "source": [
    "#### Observations:\n",
    "\n",
    "* From the above plot, it is evident that users are spending more time in new landing page at an average time of 6.22 minutes compared to 4.53 minutes spent in old landing page. \n",
    "* The new landing page is also making users spend more time on it compared to the time being spent on the old landing page. "
   ]
  },
  {
   "cell_type": "markdown",
   "id": "efda518c",
   "metadata": {},
   "source": [
    "### Conversion Rate vs Time Spent on the Page"
   ]
  },
  {
   "cell_type": "code",
   "execution_count": 26,
   "id": "71d7ff1d",
   "metadata": {
    "scrolled": false
   },
   "outputs": [
    {
     "data": {
      "text/plain": [
       "converted\n",
       "no     3.915870\n",
       "yes    6.623148\n",
       "Name: time_spent_on_the_page, dtype: float64"
      ]
     },
     "execution_count": 26,
     "metadata": {},
     "output_type": "execute_result"
    }
   ],
   "source": [
    "df.groupby('converted')['time_spent_on_the_page'].mean()"
   ]
  },
  {
   "cell_type": "code",
   "execution_count": 27,
   "id": "9b15d9f9",
   "metadata": {
    "scrolled": false
   },
   "outputs": [
    {
     "data": {
      "image/png": "[encoded data removed]",
      "text/plain": [
       "<Figure size 1080x504 with 1 Axes>"
      ]
     },
     "metadata": {
      "needs_background": "light"
     },
     "output_type": "display_data"
    }
   ],
   "source": [
    "# Relationship between conversion rate and time spent on the page.\n",
    "plt.figure(figsize=(15,7))\n",
    "sns.boxplot(x = \"converted\", y = \"time_spent_on_the_page\", data = df, palette = 'PuBu')\n",
    "plt.xticks(rotation = 60)\n",
    "plt.show()"
   ]
  },
  {
   "cell_type": "markdown",
   "id": "44c9eba6",
   "metadata": {},
   "source": [
    "#### Observations:\n",
    "\n",
    "* As shown in the above plot, we can infer that the users tend to convert when they spend more time on landing page.\n",
    "* The average time spent by the users who did not convert is 3.91 minutes whereas the average time spent by the users who did convert is 6.62 minutes.\n"
   ]
  },
  {
   "cell_type": "markdown",
   "id": "324e5d64",
   "metadata": {},
   "source": [
    "### Preferred Language vs Time Spent on the Page"
   ]
  },
  {
   "cell_type": "code",
   "execution_count": 28,
   "id": "4e75a673",
   "metadata": {
    "scrolled": true
   },
   "outputs": [
    {
     "data": {
      "text/plain": [
       "language_preferred\n",
       "English    5.559063\n",
       "French     5.253235\n",
       "Spanish    5.331765\n",
       "Name: time_spent_on_the_page, dtype: float64"
      ]
     },
     "execution_count": 28,
     "metadata": {},
     "output_type": "execute_result"
    }
   ],
   "source": [
    "df.groupby('language_preferred')['time_spent_on_the_page'].mean()"
   ]
  },
  {
   "cell_type": "code",
   "execution_count": 29,
   "id": "f042c75a",
   "metadata": {},
   "outputs": [
    {
     "name": "stdout",
     "output_type": "stream",
     "text": [
      "language_preferred\n",
      "English    4.454375\n",
      "French     4.310000\n",
      "Spanish    4.828235\n",
      "Name: time_spent_on_the_page, dtype: float64\n"
     ]
    }
   ],
   "source": [
    "#Time spent with preferred language using old landing page.\n",
    "df_old = df[(df['landing_page']==\"old\")]\n",
    "print(df_old.groupby(\"language_preferred\")[\"time_spent_on_the_page\"].mean())"
   ]
  },
  {
   "cell_type": "code",
   "execution_count": 30,
   "id": "93979ffb",
   "metadata": {},
   "outputs": [
    {
     "name": "stdout",
     "output_type": "stream",
     "text": [
      "language_preferred\n",
      "English    6.663750\n",
      "French     6.196471\n",
      "Spanish    5.835294\n",
      "Name: time_spent_on_the_page, dtype: float64\n"
     ]
    }
   ],
   "source": [
    "#Time spent with preferred language using new landing page.\n",
    "df_new = df[(df['landing_page']==\"new\")]\n",
    "print(df_new.groupby(\"language_preferred\")[\"time_spent_on_the_page\"].mean())"
   ]
  },
  {
   "cell_type": "code",
   "execution_count": 31,
   "id": "79d97e53",
   "metadata": {
    "scrolled": false
   },
   "outputs": [
    {
     "data": {
      "image/png": "[encoded data removed]",
      "text/plain": [
       "<Figure size 1080x504 with 1 Axes>"
      ]
     },
     "metadata": {
      "needs_background": "light"
     },
     "output_type": "display_data"
    }
   ],
   "source": [
    "# Relationship between language preferred and time spent on the page.\n",
    "plt.figure(figsize=(15,7))\n",
    "sns.boxplot(x = \"language_preferred\", y = \"time_spent_on_the_page\", data = df, palette = 'PuBu')\n",
    "plt.xticks(rotation = 60)\n",
    "plt.show()"
   ]
  },
  {
   "cell_type": "markdown",
   "id": "4d775285",
   "metadata": {},
   "source": [
    "#### Observations:\n",
    "\n",
    "* Of the overall 100 users using both old landing page as well as new landing page, the time spent on the page by preferred language users is as follows:\n",
    "* The average time spent by the English users is 5.55 minutes.\n",
    "* The average time spent by the French users is 5.25 minutes.\n",
    "* The average time spent by the Spanish users is 5.33 minutes.\n",
    "* The plot also shows that there are more number of French readers who are spending more time on the landing page and the Spanish readers spend less time on the landing page."
   ]
  },
  {
   "cell_type": "code",
   "execution_count": 32,
   "id": "cd5e1650",
   "metadata": {
    "scrolled": true
   },
   "outputs": [
    {
     "data": {
      "text/plain": [
       "<seaborn.axisgrid.FacetGrid at 0x1d108ebde50>"
      ]
     },
     "execution_count": 32,
     "metadata": {},
     "output_type": "execute_result"
    },
    {
     "data": {
      "image/png": "[encoded data removed]",
      "text/plain": [
       "<Figure size 663.175x288 with 3 Axes>"
      ]
     },
     "metadata": {
      "needs_background": "light"
     },
     "output_type": "display_data"
    }
   ],
   "source": [
    "s = sns.displot(\n",
    "    data=df, y=\"time_spent_on_the_page\", hue=\"converted\", col=\"language_preferred\",\n",
    "    kind=\"kde\", height=4, aspect=.7,\n",
    ")\n",
    "s.set_axis_labels(\"converted\", \"time_spent_on_the_page\")\n",
    "s.set_titles(\"{col_name}\")"
   ]
  },
  {
   "cell_type": "code",
   "execution_count": 33,
   "id": "e4358fe1",
   "metadata": {},
   "outputs": [
    {
     "data": {
      "text/plain": [
       "<seaborn.axisgrid.FacetGrid at 0x1d108f498b0>"
      ]
     },
     "execution_count": 33,
     "metadata": {},
     "output_type": "execute_result"
    },
    {
     "data": {
      "image/png": "[encoded data removed]",
      "text/plain": [
       "<Figure size 418.375x360 with 1 Axes>"
      ]
     },
     "metadata": {
      "needs_background": "light"
     },
     "output_type": "display_data"
    }
   ],
   "source": [
    "sns.displot(data=df, x=\"time_spent_on_the_page\", hue=\"converted\", multiple=\"stack\")"
   ]
  },
  {
   "cell_type": "markdown",
   "id": "652dee2f",
   "metadata": {},
   "source": [
    "# 2. Do the users spend more time on the new landing page than the old landing page?"
   ]
  },
  {
   "cell_type": "markdown",
   "id": "b7651e4d",
   "metadata": {},
   "source": [
    "## Let's plot the histogram of data along with the PDF of uniform distribution using the parameters minimum time spent and maximum time spent on the page."
   ]
  },
  {
   "cell_type": "code",
   "execution_count": 34,
   "id": "24702e48",
   "metadata": {},
   "outputs": [
    {
     "data": {
      "image/png": "[encoded data removed]",
      "text/plain": [
       "<Figure size 432x288 with 1 Axes>"
      ]
     },
     "metadata": {
      "needs_background": "light"
     },
     "output_type": "display_data"
    }
   ],
   "source": [
    "# visualize the distribution of the time spent on the page\n",
    "plt.hist(df[\"time_spent_on_the_page\"], density=True)\n",
    "plt.axhline(1 / 8, color=\"red\")\n",
    "plt.xlabel(\"time_spent_on_the_page\")\n",
    "plt.ylabel(\"Probability\")\n",
    "plt.title(\"Data Distribution\")\n",
    "plt.show()"
   ]
  },
  {
   "cell_type": "code",
   "execution_count": 35,
   "id": "2bf6d6dd",
   "metadata": {
    "scrolled": false
   },
   "outputs": [
    {
     "data": {
      "image/png": "[encoded data removed]",
      "text/plain": [
       "<Figure size 360x360 with 1 Axes>"
      ]
     },
     "metadata": {
      "needs_background": "light"
     },
     "output_type": "display_data"
    }
   ],
   "source": [
    "# Density plot of time spent on the page\n",
    "sns.displot(df[\"time_spent_on_the_page\"], kde=True)\n",
    "plt.show()"
   ]
  },
  {
   "cell_type": "markdown",
   "id": "03f70b27",
   "metadata": {},
   "source": [
    "Let's write the null and alternative hypothesis\n",
    "Let  𝜇1,𝜇2  be the mean of the time spent by the users on the old and new landing page respectively.\n",
    "\n",
    "We want to test whether the time spent on the new is higher than the old landing page.\n",
    "\n",
    "We will test the null hypothesis.\n",
    "Let 𝜇1 be the time spent on the new landing page.\n",
    "Let 𝜇2 be the time spent on the old landing page.\n",
    "\n",
    "𝐻0:𝜇1=𝜇2 \n",
    "which is users spend equal amount of time in the old and the new landing page,\n",
    "\n",
    "against the alternate hypothesis\n",
    "which is users spend greater amount of time on the new landing page,\n",
    "𝐻𝑎:𝜇1>𝜇2.\n",
    "\n",
    "We are going to use the **two independent sample t-test with the level of significance as 0.05.**"
   ]
  },
  {
   "cell_type": "code",
   "execution_count": 36,
   "id": "d16a6a90",
   "metadata": {},
   "outputs": [
    {
     "data": {
      "text/html": [
       "<div>\n",
       "<style scoped>\n",
       "    .dataframe tbody tr th:only-of-type {\n",
       "        vertical-align: middle;\n",
       "    }\n",
       "\n",
       "    .dataframe tbody tr th {\n",
       "        vertical-align: top;\n",
       "    }\n",
       "\n",
       "    .dataframe thead tr th {\n",
       "        text-align: left;\n",
       "    }\n",
       "\n",
       "    .dataframe thead tr:last-of-type th {\n",
       "        text-align: right;\n",
       "    }\n",
       "</style>\n",
       "<table border=\"1\" class=\"dataframe\">\n",
       "  <thead>\n",
       "    <tr>\n",
       "      <th></th>\n",
       "      <th colspan=\"8\" halign=\"left\">user_id</th>\n",
       "      <th colspan=\"8\" halign=\"left\">time_spent_on_the_page</th>\n",
       "    </tr>\n",
       "    <tr>\n",
       "      <th></th>\n",
       "      <th>count</th>\n",
       "      <th>mean</th>\n",
       "      <th>std</th>\n",
       "      <th>min</th>\n",
       "      <th>25%</th>\n",
       "      <th>50%</th>\n",
       "      <th>75%</th>\n",
       "      <th>max</th>\n",
       "      <th>count</th>\n",
       "      <th>mean</th>\n",
       "      <th>std</th>\n",
       "      <th>min</th>\n",
       "      <th>25%</th>\n",
       "      <th>50%</th>\n",
       "      <th>75%</th>\n",
       "      <th>max</th>\n",
       "    </tr>\n",
       "    <tr>\n",
       "      <th>landing_page</th>\n",
       "      <th></th>\n",
       "      <th></th>\n",
       "      <th></th>\n",
       "      <th></th>\n",
       "      <th></th>\n",
       "      <th></th>\n",
       "      <th></th>\n",
       "      <th></th>\n",
       "      <th></th>\n",
       "      <th></th>\n",
       "      <th></th>\n",
       "      <th></th>\n",
       "      <th></th>\n",
       "      <th></th>\n",
       "      <th></th>\n",
       "      <th></th>\n",
       "    </tr>\n",
       "  </thead>\n",
       "  <tbody>\n",
       "    <tr>\n",
       "      <th>new</th>\n",
       "      <td>50.0</td>\n",
       "      <td>546467.5</td>\n",
       "      <td>14.57738</td>\n",
       "      <td>546443.0</td>\n",
       "      <td>546455.25</td>\n",
       "      <td>546467.5</td>\n",
       "      <td>546479.75</td>\n",
       "      <td>546492.0</td>\n",
       "      <td>50.0</td>\n",
       "      <td>6.2232</td>\n",
       "      <td>1.817031</td>\n",
       "      <td>1.65</td>\n",
       "      <td>5.175</td>\n",
       "      <td>6.105</td>\n",
       "      <td>7.1600</td>\n",
       "      <td>10.71</td>\n",
       "    </tr>\n",
       "    <tr>\n",
       "      <th>old</th>\n",
       "      <td>50.0</td>\n",
       "      <td>546566.5</td>\n",
       "      <td>17.67767</td>\n",
       "      <td>546493.0</td>\n",
       "      <td>546555.25</td>\n",
       "      <td>546567.5</td>\n",
       "      <td>546579.75</td>\n",
       "      <td>546592.0</td>\n",
       "      <td>50.0</td>\n",
       "      <td>4.5324</td>\n",
       "      <td>2.581975</td>\n",
       "      <td>0.19</td>\n",
       "      <td>2.720</td>\n",
       "      <td>4.380</td>\n",
       "      <td>6.4425</td>\n",
       "      <td>10.30</td>\n",
       "    </tr>\n",
       "  </tbody>\n",
       "</table>\n",
       "</div>"
      ],
      "text/plain": [
       "             user_id                                                     \\\n",
       "               count      mean       std       min        25%       50%   \n",
       "landing_page                                                              \n",
       "new             50.0  546467.5  14.57738  546443.0  546455.25  546467.5   \n",
       "old             50.0  546566.5  17.67767  546493.0  546555.25  546567.5   \n",
       "\n",
       "                                  time_spent_on_the_page                    \\\n",
       "                    75%       max                  count    mean       std   \n",
       "landing_page                                                                 \n",
       "new           546479.75  546492.0                   50.0  6.2232  1.817031   \n",
       "old           546579.75  546592.0                   50.0  4.5324  2.581975   \n",
       "\n",
       "                                                 \n",
       "               min    25%    50%     75%    max  \n",
       "landing_page                                     \n",
       "new           1.65  5.175  6.105  7.1600  10.71  \n",
       "old           0.19  2.720  4.380  6.4425  10.30  "
      ]
     },
     "execution_count": 36,
     "metadata": {},
     "output_type": "execute_result"
    }
   ],
   "source": [
    "#To formulate data needed for the test statistic.\n",
    "time_new = df.query('landing_page == \"new\"')[\"time_spent_on_the_page\"]\n",
    "time_old = df.query('landing_page == \"old\"')[\"time_spent_on_the_page\"]\n",
    "df.groupby('landing_page').describe()"
   ]
  },
  {
   "cell_type": "code",
   "execution_count": 37,
   "id": "ae8b43d3",
   "metadata": {},
   "outputs": [
    {
     "name": "stdout",
     "output_type": "stream",
     "text": [
      "The p-value is 0.0001392381225166549\n"
     ]
    }
   ],
   "source": [
    "#Importing the required function\n",
    "from scipy.stats import ttest_ind\n",
    "#To find the p-value\n",
    "test_stat, p_value = ttest_ind(time_new, time_old, equal_var = False, alternative = 'greater')\n",
    "print('The p-value is ' + str(p_value))"
   ]
  },
  {
   "cell_type": "markdown",
   "id": "849f37ee",
   "metadata": {},
   "source": [
    "### Insight :\n",
    "* As the p-value is less than the level of significane, we can reject the null hypothesis. We do not have enough evidence to support the claim that the users spend equal amount of time on the new and the old landing page. Hence we can conclude that users spend more time on the new landing page."
   ]
  },
  {
   "cell_type": "markdown",
   "id": "290c48e4",
   "metadata": {},
   "source": [
    "## Visual Analysis"
   ]
  },
  {
   "cell_type": "code",
   "execution_count": 38,
   "id": "59c4b895",
   "metadata": {
    "scrolled": false
   },
   "outputs": [
    {
     "data": {
      "image/png": "[encoded data removed]",
      "text/plain": [
       "<Figure size 1080x504 with 1 Axes>"
      ]
     },
     "metadata": {
      "needs_background": "light"
     },
     "output_type": "display_data"
    }
   ],
   "source": [
    "#To find out how much time is spent on the new and old landing page.\n",
    "plt.figure(figsize=(15,7))\n",
    "sns.boxplot(x = \"landing_page\", y = \"time_spent_on_the_page\", data = df,)\n",
    "plt.xticks(rotation = 60)\n",
    "plt.show()"
   ]
  },
  {
   "cell_type": "markdown",
   "id": "99e79b28",
   "metadata": {},
   "source": [
    "## Insight: \n",
    "* The box plots confirms visually that the users spend more time on the new landing page than the old landing page."
   ]
  },
  {
   "cell_type": "markdown",
   "id": "aa14f83e",
   "metadata": {},
   "source": [
    "# 3. Is the conversion rate (the proportion of users who visit the landing page and get converted) for the new page greater than the conversion rate for the old page?"
   ]
  },
  {
   "cell_type": "markdown",
   "id": "1254a90b",
   "metadata": {},
   "source": [
    "Let's write the null and alternative hypothesis\n",
    "Let 𝑝1,𝑝2 be the proportions of the rate of conversions for the new and the old landing page respectively.\n",
    "\n",
    "Our Null hypothesis will be that the rate of conversion for the new page is equal to the rate of conversion on the old page.\n",
    "\n",
    "𝐻0:𝑝1=𝑝2\n",
    "\n",
    "against the alternate hypothesis which is the rate of conversion for the new page is higher than the rate of conversion on the old page.\n",
    "\n",
    "𝐻𝑎:𝑝1>𝑝2\n",
    "\n",
    "We are going to use the **Two proportions z-test with the level of significance set to 0.05.**"
   ]
  },
  {
   "cell_type": "code",
   "execution_count": 39,
   "id": "efcdaa79",
   "metadata": {},
   "outputs": [
    {
     "name": "stdout",
     "output_type": "stream",
     "text": [
      "The number of conversions from the new page is 33\n",
      "The number of conversions from the old page is 21\n",
      "The total number of users for the new page is 50\n",
      "The total number of users for the old page is 50\n"
     ]
    }
   ],
   "source": [
    "#To formulate data needed for the test statistic.\n",
    "con_new = df.query('landing_page == \"new\"')['converted'].value_counts()['yes']\n",
    "con_old = df.query('landing_page == \"old\"')['converted'].value_counts()['yes']\n",
    "new_con = df.landing_page.value_counts()['new']\n",
    "old_con = df.landing_page.value_counts()['old']\n",
    "print('The number of conversions from the new page is', con_new)\n",
    "print('The number of conversions from the old page is', con_old)\n",
    "print('The total number of users for the new page is', new_con)\n",
    "print('The total number of users for the old page is', old_con)"
   ]
  },
  {
   "cell_type": "code",
   "execution_count": 40,
   "id": "92b00e54",
   "metadata": {},
   "outputs": [
    {
     "name": "stdout",
     "output_type": "stream",
     "text": [
      "The p-value is 0.035220214636043995\n"
     ]
    }
   ],
   "source": [
    "# import the required fuction\n",
    "from statsmodels.stats.proportion import proportions_ztest\n",
    "\n",
    "# set the counts of converted items\n",
    "conversion_count = np.array([32, 23])\n",
    "\n",
    "# set the sample sizes\n",
    "count = np.array([50, 50])\n",
    "\n",
    "# find the p-value\n",
    "test_stat, p_value = proportions_ztest(conversion_count, count, alternative = 'larger')\n",
    "print('The p-value is ' + str(p_value))\n"
   ]
  },
  {
   "cell_type": "markdown",
   "id": "d5a91430",
   "metadata": {},
   "source": [
    "### Insight: \n",
    "* As the p-value is less than the level of significance, we can reject the null hypothesis. We do not have enough evidence to support the claim that the conversion rate for the new page is the same as the conversion rate for the old page. Hence we can conclude that the rate of conversion for the new page is higher than the rate of conversion on the old page."
   ]
  },
  {
   "cell_type": "markdown",
   "id": "f0b6e66b",
   "metadata": {},
   "source": [
    "## Visual Analysis"
   ]
  },
  {
   "cell_type": "code",
   "execution_count": 41,
   "id": "08fbb52a",
   "metadata": {
    "scrolled": true
   },
   "outputs": [
    {
     "data": {
      "text/plain": [
       "<AxesSubplot:xlabel='landing_page', ylabel='Count'>"
      ]
     },
     "execution_count": 41,
     "metadata": {},
     "output_type": "execute_result"
    },
    {
     "data": {
      "image/png": "[encoded data removed]",
      "text/plain": [
       "<Figure size 432x288 with 1 Axes>"
      ]
     },
     "metadata": {
      "needs_background": "light"
     },
     "output_type": "display_data"
    }
   ],
   "source": [
    "conv = df.loc[df[\"converted\"] == \"yes\"]\n",
    "sns.histplot(data=conv, x='landing_page', hue='landing_page', multiple='dodge', shrink=.8)"
   ]
  },
  {
   "cell_type": "code",
   "execution_count": 42,
   "id": "29566e2a",
   "metadata": {
    "scrolled": false
   },
   "outputs": [
    {
     "data": {
      "image/png": "[encoded data removed]",
      "text/plain": [
       "<Figure size 1080x504 with 1 Axes>"
      ]
     },
     "metadata": {
      "needs_background": "light"
     },
     "output_type": "display_data"
    }
   ],
   "source": [
    "#To find out how much time is spent on the new and old landing page.\n",
    "plt.figure(figsize=(15,7))\n",
    "sns.boxplot(x = \"landing_page\", y = \"time_spent_on_the_page\", hue=\"converted\", data = df,)\n",
    "plt.xticks(rotation = 60)\n",
    "plt.show()"
   ]
  },
  {
   "cell_type": "markdown",
   "id": "bfcece25",
   "metadata": {},
   "source": [
    "## Insight: \n",
    "* The above histogram clearly shows visually that the conversion rate is higher for the users from the new landing page."
   ]
  },
  {
   "cell_type": "markdown",
   "id": "df1cc7c2",
   "metadata": {},
   "source": [
    "# 4. Does the converted status depend on the preferred language?"
   ]
  },
  {
   "cell_type": "markdown",
   "id": "da926bea",
   "metadata": {},
   "source": [
    "Let's write the null and alternative hypothesis.\n",
    "\n",
    "Our Null hypothesis is that the converted status is independent of the preferred language.\n",
    "\n",
    "𝐻0: Converted status is independent of preferred language.\n",
    "\n",
    "against the alternate hypothesis which is the converted status depends on the preferred language.\n",
    "\n",
    "𝐻𝑎:  Converted status depends on preferred language.\n",
    "Since it involves categorical variables and a contingency table, we are going to use **Chi Square test of independence** with the level of significance set to 0.05."
   ]
  },
  {
   "cell_type": "code",
   "execution_count": 43,
   "id": "622082ae",
   "metadata": {},
   "outputs": [
    {
     "name": "stdout",
     "output_type": "stream",
     "text": [
      "converted           no  yes  All\n",
      "language_preferred              \n",
      "English             11   21   32\n",
      "French              19   15   34\n",
      "Spanish             16   18   34\n",
      "All                 46   54  100\n"
     ]
    }
   ],
   "source": [
    "#To formulate data needed for the test statistic.\n",
    "lang_stats = pd.crosstab(df.language_preferred, df.converted, margins= True)\n",
    "print(lang_stats)"
   ]
  },
  {
   "cell_type": "code",
   "execution_count": 44,
   "id": "705fb89d",
   "metadata": {},
   "outputs": [
    {
     "name": "stdout",
     "output_type": "stream",
     "text": [
      "The p-value is 0.7970832186581234\n"
     ]
    }
   ],
   "source": [
    "# import the required function\n",
    "from scipy.stats import chi2_contingency\n",
    "\n",
    "# find the p-value\n",
    "chi, p_value, dof, expected = chi2_contingency(lang_stats)\n",
    "print('The p-value is', p_value)"
   ]
  },
  {
   "cell_type": "markdown",
   "id": "4ded3d9a",
   "metadata": {},
   "source": [
    "### Insight:\n",
    "* As the p-value is greater than the level of significance, we fail to reject the null hypothesis. Therefore we have enough evidence to support the claim that the converted status is independent of the preferred language."
   ]
  },
  {
   "cell_type": "markdown",
   "id": "2e59c789",
   "metadata": {},
   "source": [
    "## Visual Analysis"
   ]
  },
  {
   "cell_type": "code",
   "execution_count": 45,
   "id": "02b83c98",
   "metadata": {
    "scrolled": true
   },
   "outputs": [
    {
     "data": {
      "text/plain": [
       "<AxesSubplot:xlabel='language_preferred', ylabel='Count'>"
      ]
     },
     "execution_count": 45,
     "metadata": {},
     "output_type": "execute_result"
    },
    {
     "data": {
      "image/png": "[encoded data removed]",
      "text/plain": [
       "<Figure size 432x288 with 1 Axes>"
      ]
     },
     "metadata": {
      "needs_background": "light"
     },
     "output_type": "display_data"
    }
   ],
   "source": [
    "sns.histplot(x=\"language_preferred\", hue=\"converted\", multiple=\"dodge\", data=df, stat=\"count\", shrink=0.8)"
   ]
  },
  {
   "cell_type": "code",
   "execution_count": 46,
   "id": "eddc2a5b",
   "metadata": {},
   "outputs": [
    {
     "data": {
      "image/png": "[encoded data removed]",
      "text/plain": [
       "<Figure size 288x360 with 1 Axes>"
      ]
     },
     "metadata": {
      "needs_background": "light"
     },
     "output_type": "display_data"
    }
   ],
   "source": [
    "oldlp = conv.loc[conv[\"landing_page\"] == \"old\"]\n",
    "labeled_barplot(oldlp, 'language_preferred', perc=False)"
   ]
  },
  {
   "cell_type": "code",
   "execution_count": 47,
   "id": "61f604df",
   "metadata": {},
   "outputs": [
    {
     "data": {
      "image/png": "[encoded data removed]",
      "text/plain": [
       "<Figure size 288x360 with 1 Axes>"
      ]
     },
     "metadata": {
      "needs_background": "light"
     },
     "output_type": "display_data"
    }
   ],
   "source": [
    "newlp = conv.loc[conv[\"landing_page\"] == \"new\"]\n",
    "labeled_barplot(newlp, 'language_preferred', perc=False)"
   ]
  },
  {
   "cell_type": "markdown",
   "id": "e80c9e8b",
   "metadata": {},
   "source": [
    "## Insight:\n",
    "* In the first plot, we can see that English and Spanish readers converted more when compared to the French readers.\n",
    "* However in the second and the third plot, we can see how the readers conversion rate is distributed among the users who use old landing page and new landing page.\n",
    "* The conversion rate is higher for English readers who use the old landing page, however the conversion is higher for French and Spanish readers using the new landing page. Hence we can conclude that we do not have enough evidence to support that conversion status is dependent on preferred language."
   ]
  },
  {
   "cell_type": "markdown",
   "id": "788fcd39",
   "metadata": {},
   "source": [
    "# 5. Is the mean time spent on the new page same for the different language users?"
   ]
  },
  {
   "cell_type": "markdown",
   "id": "ee21b65a",
   "metadata": {},
   "source": [
    "Lets us formulate our hypothesis for the above question.\n",
    "\n",
    "Let  𝜇1,𝜇2,𝜇3  be the mean time spent on the new page by English, French and Spanish users respectively. \n",
    "\n",
    "We will test the null hypothesis by stating that the mean time spent on the new page by all language users is equal\n",
    "\n",
    "𝐻0:𝜇1=𝜇2=𝜇3\n",
    "\n",
    "against the alternative hypothesis which is atleast one mean time is unequal.\n",
    "\n",
    "𝐻𝑎:  At least one mean is different from the rest.\n",
    "\n",
    "We are going to use **One way ANOVA F test** with the level of sognificance set to 0.05."
   ]
  },
  {
   "cell_type": "code",
   "execution_count": 48,
   "id": "4a2eb392",
   "metadata": {},
   "outputs": [
    {
     "name": "stdout",
     "output_type": "stream",
     "text": [
      "language_preferred\n",
      "English    6.663750\n",
      "French     6.196471\n",
      "Spanish    5.835294\n",
      "Name: time_spent_on_the_page, dtype: float64\n"
     ]
    }
   ],
   "source": [
    "#To formulate data needed for the test statistic.\n",
    "df_new = df[(df['landing_page']==\"new\")]\n",
    "print(df_new.groupby(\"language_preferred\")[\"time_spent_on_the_page\"].mean())"
   ]
  },
  {
   "cell_type": "code",
   "execution_count": 49,
   "id": "46b242c1",
   "metadata": {},
   "outputs": [
    {
     "name": "stdout",
     "output_type": "stream",
     "text": [
      "The p-value is 0.43204138694325955\n"
     ]
    }
   ],
   "source": [
    "#import the required function\n",
    "from scipy.stats import f_oneway\n",
    "test_stat, p_value = f_oneway(df_new.loc[df_new['language_preferred'] == 'English', 'time_spent_on_the_page'], \n",
    "                                   df_new.loc[df_new['language_preferred'] == 'French', 'time_spent_on_the_page'], \n",
    "                                  df_new.loc[df_new['language_preferred'] == 'Spanish', 'time_spent_on_the_page'])\n",
    "# find the p-value\n",
    "print('The p-value is' ,p_value)"
   ]
  },
  {
   "cell_type": "markdown",
   "id": "86f5cb37",
   "metadata": {},
   "source": [
    "### Insight: \n",
    "* As the p-value is greater than the level of significance, we fail to reject our null hypothesis. Hence we have enough evidence to support the claim that the mean time spent on the new page is equal across the different language users."
   ]
  },
  {
   "cell_type": "markdown",
   "id": "04d76fa6",
   "metadata": {},
   "source": [
    "## Visual Analysis"
   ]
  },
  {
   "cell_type": "code",
   "execution_count": 50,
   "id": "3c4fe117",
   "metadata": {},
   "outputs": [
    {
     "data": {
      "image/png": "[encoded data removed]",
      "text/plain": [
       "<Figure size 1080x504 with 1 Axes>"
      ]
     },
     "metadata": {
      "needs_background": "light"
     },
     "output_type": "display_data"
    }
   ],
   "source": [
    "# Relationship between language preferred and time spent.\n",
    "plt.figure(figsize=(15,7))\n",
    "sns.boxplot(x = \"language_preferred\", y = \"time_spent_on_the_page\", data = df_new, palette = 'PuBu')\n",
    "plt.xticks(rotation = 60)\n",
    "plt.show()"
   ]
  },
  {
   "cell_type": "markdown",
   "id": "aaac9e11",
   "metadata": {},
   "source": [
    "## Insight:\n",
    "* The box plot shows that there is only a slight difference in the means of the 3 groups and hence it supports our hypothesis also which says that the mean times are equal across the languages."
   ]
  },
  {
   "cell_type": "markdown",
   "id": "8aae7ada",
   "metadata": {},
   "source": [
    "# Conclusions:\n",
    "*  Users spend more time on the new landing page compared to the old landing page.\n",
    "*  The conversion rate seems to be higher from the group using the new landing page.\n",
    "*  The language used does not not seem to affect the number of converted subscribers or the time spent on the page.\n",
    "*  Hence the company decision to offer the new landing page has been successful because we have statistically and descriptively provided evidence that it has been effective in attracting more subscribers."
   ]
  }
 ],
 "metadata": {
  "kernelspec": {
   "display_name": "Python 3",
   "language": "python",
   "name": "python3"
  },
  "language_info": {
   "codemirror_mode": {
    "name": "ipython",
    "version": 3
   },
   "file_extension": ".py",
   "mimetype": "text/x-python",
   "name": "python",
   "nbconvert_exporter": "python",
   "pygments_lexer": "ipython3",
   "version": "3.8.8"
  }
 },
 "nbformat": 4,
 "nbformat_minor": 5
}
