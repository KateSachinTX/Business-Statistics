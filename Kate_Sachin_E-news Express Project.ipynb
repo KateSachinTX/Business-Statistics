{
 "cells": [
  {
   "cell_type": "markdown",
   "metadata": {
    "id": "pp8RPj0v5IsD"
   },
   "source": [
    "# Problem Statement\n",
    "\n",
    "An online news portal aims to expand its business by acquiring new subscribers. Every visitor to the website takes certain actions based on their interest. The company plans to analyze these interests and wants to determine whether a new feature will be effective or not. Companies often analyze users' responses to two variants of a product to decide which of the two variants is more effective. This experimental technique is known as a/b testing that is used to determine whether a new feature attracts users based on a chosen metric.\n",
    "\n",
    "Suppose you are hired as a Data Scientist in E-news Express. The design team of the company has created a new landing page. You have been assigned the task to decide whether the new landing page is more effective to gather new subscribers. Suppose you randomly selected 100 users and divided them equally into two groups. The old landing page is served to the first group (control group) and the new landing page is served to the second group (treatment group). Various data about the customers in both groups are collected in 'abtest.csv'. Perform the statistical analysis to answer the following questions using the collected data.\n",
    "\n",
    "1. Explore the dataset and extract insights using Exploratory Data Analysis.\n",
    "\n",
    "2. Do the users spend more time on the new landing page than the existing landing page?\n",
    "\n",
    "3. Is the conversion rate (the proportion of users who visit the landing page and get converted) for the new page greater than the conversion rate for the old page?\n",
    "\n",
    "4. Does the converted status depend on the preferred language? [Hint: Create a contingency table using the pandas.crosstab() function]\n",
    "\n",
    "5. Is the time spent on the new page same for the different language users?\n",
    "\n",
    "\n",
    "*Consider a significance level of 0.05 for all tests.\n",
    "\n",
    "The  idea  behind  answering  these  questions  is  to  decide  whether  the  new  page  is  effective  enough  to  gather  new subscribers for the news portal. We will perform the statistical analysis on the collected data to make the business decision.\n"
   ]
  },
  {
   "cell_type": "markdown",
   "metadata": {
    "id": "zVlFWlJ-5K9F"
   },
   "source": [
    "# Data Dictionary\n",
    "\n",
    "1. user_id - This represents the user ID of the person visiting the website.\n",
    "\n",
    "2. group - This represents whether the user belongs to the first group (control) or the second group (treatment).\n",
    "\n",
    "3. landing_page - This represents whether the landing page is new or old.\n",
    "\n",
    "4. time_spent_on_the_page - This represents the time (in minutes) spent by the user on the landing page.\n",
    "\n",
    "5. converted - This represents whether the user gets converted to a subscriber of the news portal or not.\n",
    "\n",
    "6. language_preferred - This represents the language chosen by the user to view the landing page."
   ]
  },
  {
   "cell_type": "markdown",
   "metadata": {
    "id": "iFOd4NTyGsDK"
   },
   "source": [
    "## Import all the necessary libraries"
   ]
  },
  {
   "cell_type": "code",
   "execution_count": 1,
   "metadata": {
    "id": "bxj7okWaGmBr"
   },
   "outputs": [],
   "source": [
    "import numpy as np\n",
    "import pandas as pd\n",
    "from matplotlib import pyplot as plt\n",
    "import seaborn as sns"
   ]
  },
  {
   "cell_type": "markdown",
   "metadata": {
    "id": "1rPExJLzG12m"
   },
   "source": [
    "## 1. Explore the dataset and extract insights using Exploratory Data Analysis."
   ]
  },
  {
   "cell_type": "markdown",
   "metadata": {
    "id": "_O36JUTCHBH-"
   },
   "source": [
    "### Exploratory Data Analysis - Step by step approach\n",
    "\n",
    "Typical Data exploration activity consists of the following steps:\n",
    "1.\tImporting Data\n",
    "2.\tVariable Identification\n",
    "3.  Variable Transformation/Feature Creation\n",
    "4.  Missing value detection\n",
    "5.\tUnivariate Analysis\n",
    "6.\tBivariate Analysis"
   ]
  },
  {
   "cell_type": "markdown",
   "metadata": {
    "id": "ILjvG_n7YwOy"
   },
   "source": [
    "### Reading the Data into a DataFrame"
   ]
  },
  {
   "cell_type": "code",
   "execution_count": 2,
   "metadata": {
    "id": "ORIKAObgaMQ7"
   },
   "outputs": [],
   "source": [
    "df = pd.read_csv('abtest.csv')"
   ]
  },
  {
   "cell_type": "markdown",
   "metadata": {
    "id": "pjEwws2ZWO1b"
   },
   "source": [
    "### View the first and last 5 rows of the dataset"
   ]
  },
  {
   "cell_type": "code",
   "execution_count": 3,
   "metadata": {
    "colab": {
     "base_uri": "https://localhost:8080/",
     "height": 204
    },
    "id": "E8nshIIgWTSS",
    "outputId": "f207f34f-e7f2-41bb-bda4-4bdd646fd048"
   },
   "outputs": [
    {
     "data": {
      "text/html": [
       "<div>\n",
       "<style scoped>\n",
       "    .dataframe tbody tr th:only-of-type {\n",
       "        vertical-align: middle;\n",
       "    }\n",
       "\n",
       "    .dataframe tbody tr th {\n",
       "        vertical-align: top;\n",
       "    }\n",
       "\n",
       "    .dataframe thead th {\n",
       "        text-align: right;\n",
       "    }\n",
       "</style>\n",
       "<table border=\"1\" class=\"dataframe\">\n",
       "  <thead>\n",
       "    <tr style=\"text-align: right;\">\n",
       "      <th></th>\n",
       "      <th>user_id</th>\n",
       "      <th>group</th>\n",
       "      <th>landing_page</th>\n",
       "      <th>time_spent_on_the_page</th>\n",
       "      <th>converted</th>\n",
       "      <th>language_preferred</th>\n",
       "    </tr>\n",
       "  </thead>\n",
       "  <tbody>\n",
       "    <tr>\n",
       "      <th>0</th>\n",
       "      <td>546592</td>\n",
       "      <td>control</td>\n",
       "      <td>old</td>\n",
       "      <td>3.48</td>\n",
       "      <td>no</td>\n",
       "      <td>Spanish</td>\n",
       "    </tr>\n",
       "    <tr>\n",
       "      <th>1</th>\n",
       "      <td>546468</td>\n",
       "      <td>treatment</td>\n",
       "      <td>new</td>\n",
       "      <td>7.13</td>\n",
       "      <td>yes</td>\n",
       "      <td>English</td>\n",
       "    </tr>\n",
       "    <tr>\n",
       "      <th>2</th>\n",
       "      <td>546462</td>\n",
       "      <td>treatment</td>\n",
       "      <td>new</td>\n",
       "      <td>4.40</td>\n",
       "      <td>no</td>\n",
       "      <td>Spanish</td>\n",
       "    </tr>\n",
       "    <tr>\n",
       "      <th>3</th>\n",
       "      <td>546567</td>\n",
       "      <td>control</td>\n",
       "      <td>old</td>\n",
       "      <td>3.02</td>\n",
       "      <td>no</td>\n",
       "      <td>French</td>\n",
       "    </tr>\n",
       "    <tr>\n",
       "      <th>4</th>\n",
       "      <td>546459</td>\n",
       "      <td>treatment</td>\n",
       "      <td>new</td>\n",
       "      <td>4.75</td>\n",
       "      <td>yes</td>\n",
       "      <td>Spanish</td>\n",
       "    </tr>\n",
       "  </tbody>\n",
       "</table>\n",
       "</div>"
      ],
      "text/plain": [
       "   user_id      group landing_page  time_spent_on_the_page converted  \\\n",
       "0   546592    control          old                    3.48        no   \n",
       "1   546468  treatment          new                    7.13       yes   \n",
       "2   546462  treatment          new                    4.40        no   \n",
       "3   546567    control          old                    3.02        no   \n",
       "4   546459  treatment          new                    4.75       yes   \n",
       "\n",
       "  language_preferred  \n",
       "0            Spanish  \n",
       "1            English  \n",
       "2            Spanish  \n",
       "3             French  \n",
       "4            Spanish  "
      ]
     },
     "execution_count": 3,
     "metadata": {},
     "output_type": "execute_result"
    }
   ],
   "source": [
    "df.head()"
   ]
  },
  {
   "cell_type": "code",
   "execution_count": 4,
   "metadata": {
    "colab": {
     "base_uri": "https://localhost:8080/",
     "height": 204
    },
    "id": "JPsrXY1JWX9v",
    "outputId": "3cb1d9df-c5c0-4774-cfcb-57302d788a24"
   },
   "outputs": [
    {
     "data": {
      "text/html": [
       "<div>\n",
       "<style scoped>\n",
       "    .dataframe tbody tr th:only-of-type {\n",
       "        vertical-align: middle;\n",
       "    }\n",
       "\n",
       "    .dataframe tbody tr th {\n",
       "        vertical-align: top;\n",
       "    }\n",
       "\n",
       "    .dataframe thead th {\n",
       "        text-align: right;\n",
       "    }\n",
       "</style>\n",
       "<table border=\"1\" class=\"dataframe\">\n",
       "  <thead>\n",
       "    <tr style=\"text-align: right;\">\n",
       "      <th></th>\n",
       "      <th>user_id</th>\n",
       "      <th>group</th>\n",
       "      <th>landing_page</th>\n",
       "      <th>time_spent_on_the_page</th>\n",
       "      <th>converted</th>\n",
       "      <th>language_preferred</th>\n",
       "    </tr>\n",
       "  </thead>\n",
       "  <tbody>\n",
       "    <tr>\n",
       "      <th>95</th>\n",
       "      <td>546446</td>\n",
       "      <td>treatment</td>\n",
       "      <td>new</td>\n",
       "      <td>5.15</td>\n",
       "      <td>no</td>\n",
       "      <td>Spanish</td>\n",
       "    </tr>\n",
       "    <tr>\n",
       "      <th>96</th>\n",
       "      <td>546544</td>\n",
       "      <td>control</td>\n",
       "      <td>old</td>\n",
       "      <td>6.52</td>\n",
       "      <td>yes</td>\n",
       "      <td>English</td>\n",
       "    </tr>\n",
       "    <tr>\n",
       "      <th>97</th>\n",
       "      <td>546472</td>\n",
       "      <td>treatment</td>\n",
       "      <td>new</td>\n",
       "      <td>7.07</td>\n",
       "      <td>yes</td>\n",
       "      <td>Spanish</td>\n",
       "    </tr>\n",
       "    <tr>\n",
       "      <th>98</th>\n",
       "      <td>546481</td>\n",
       "      <td>treatment</td>\n",
       "      <td>new</td>\n",
       "      <td>6.20</td>\n",
       "      <td>yes</td>\n",
       "      <td>Spanish</td>\n",
       "    </tr>\n",
       "    <tr>\n",
       "      <th>99</th>\n",
       "      <td>546483</td>\n",
       "      <td>treatment</td>\n",
       "      <td>new</td>\n",
       "      <td>5.86</td>\n",
       "      <td>yes</td>\n",
       "      <td>English</td>\n",
       "    </tr>\n",
       "  </tbody>\n",
       "</table>\n",
       "</div>"
      ],
      "text/plain": [
       "    user_id      group landing_page  time_spent_on_the_page converted  \\\n",
       "95   546446  treatment          new                    5.15        no   \n",
       "96   546544    control          old                    6.52       yes   \n",
       "97   546472  treatment          new                    7.07       yes   \n",
       "98   546481  treatment          new                    6.20       yes   \n",
       "99   546483  treatment          new                    5.86       yes   \n",
       "\n",
       "   language_preferred  \n",
       "95            Spanish  \n",
       "96            English  \n",
       "97            Spanish  \n",
       "98            Spanish  \n",
       "99            English  "
      ]
     },
     "execution_count": 4,
     "metadata": {},
     "output_type": "execute_result"
    }
   ],
   "source": [
    "df.tail()"
   ]
  },
  {
   "cell_type": "markdown",
   "metadata": {
    "id": "rXhgGDyiWZke"
   },
   "source": [
    "### Understand the shape of the dataset"
   ]
  },
  {
   "cell_type": "code",
   "execution_count": 5,
   "metadata": {
    "colab": {
     "base_uri": "https://localhost:8080/"
    },
    "id": "7uCR2HmrWe7-",
    "outputId": "d73e60c1-6f84-4c61-ddb1-d4acae084dfd"
   },
   "outputs": [
    {
     "data": {
      "text/plain": [
       "(100, 6)"
      ]
     },
     "execution_count": 5,
     "metadata": {},
     "output_type": "execute_result"
    }
   ],
   "source": [
    "df.shape"
   ]
  },
  {
   "cell_type": "markdown",
   "metadata": {
    "id": "ed9noM8FWh_x"
   },
   "source": [
    "* The dataset has 100 rows and 6 columns."
   ]
  },
  {
   "cell_type": "markdown",
   "metadata": {
    "id": "UyWWhtbbWk9s"
   },
   "source": [
    "### Check the data types of the columns for the dataset"
   ]
  },
  {
   "cell_type": "code",
   "execution_count": 6,
   "metadata": {
    "colab": {
     "base_uri": "https://localhost:8080/"
    },
    "id": "Sf5a7CqgWn8u",
    "outputId": "e2fb52ef-3835-4169-acae-59b112cfe89d"
   },
   "outputs": [
    {
     "name": "stdout",
     "output_type": "stream",
     "text": [
      "<class 'pandas.core.frame.DataFrame'>\n",
      "RangeIndex: 100 entries, 0 to 99\n",
      "Data columns (total 6 columns):\n",
      " #   Column                  Non-Null Count  Dtype  \n",
      "---  ------                  --------------  -----  \n",
      " 0   user_id                 100 non-null    int64  \n",
      " 1   group                   100 non-null    object \n",
      " 2   landing_page            100 non-null    object \n",
      " 3   time_spent_on_the_page  100 non-null    float64\n",
      " 4   converted               100 non-null    object \n",
      " 5   language_preferred      100 non-null    object \n",
      "dtypes: float64(1), int64(1), object(4)\n",
      "memory usage: 4.8+ KB\n"
     ]
    }
   ],
   "source": [
    "df.info()"
   ]
  },
  {
   "cell_type": "markdown",
   "metadata": {
    "id": "fOnHABzxQj6Q"
   },
   "source": [
    "* There are total 100 non-null observations in each of the columns.\n",
    "\n",
    "* There are 6 columns named **'user_id', 'group', 'landing_page', 'time_spent_on_the_page', 'converted', 'language_preferred'** whose data types are **int64, object, object, float64, object, object** respectively.\n",
    "\n",
    "\n",
    "* 'group', 'landing_page', 'converted', and 'language_preferred' are objects, we can change them to categories."
   ]
  },
  {
   "cell_type": "markdown",
   "metadata": {
    "id": "Vy3NP01GWt4D"
   },
   "source": [
    "### Fixing the data types"
   ]
  },
  {
   "cell_type": "markdown",
   "metadata": {
    "id": "2uA1RGwtWvqh"
   },
   "source": [
    "`converting \"objects\" to \"category\" reduces the space required to store the DataFrame. It also helps in analysis`"
   ]
  },
  {
   "cell_type": "code",
   "execution_count": 7,
   "metadata": {
    "id": "f5gaALYvXCfE"
   },
   "outputs": [],
   "source": [
    "df['group'] = df['group'].astype('category')\n",
    "df['landing_page'] = df['landing_page'].astype('category')\n",
    "df['converted'] = df['converted'].astype('category')\n",
    "df['language_preferred'] = df['language_preferred'].astype('category')"
   ]
  },
  {
   "cell_type": "code",
   "execution_count": 8,
   "metadata": {
    "colab": {
     "base_uri": "https://localhost:8080/"
    },
    "id": "YdNPNTuSWuvb",
    "outputId": "1e8b0622-451d-4c60-96b1-441ceadaf4d2"
   },
   "outputs": [
    {
     "name": "stdout",
     "output_type": "stream",
     "text": [
      "<class 'pandas.core.frame.DataFrame'>\n",
      "RangeIndex: 100 entries, 0 to 99\n",
      "Data columns (total 6 columns):\n",
      " #   Column                  Non-Null Count  Dtype   \n",
      "---  ------                  --------------  -----   \n",
      " 0   user_id                 100 non-null    int64   \n",
      " 1   group                   100 non-null    category\n",
      " 2   landing_page            100 non-null    category\n",
      " 3   time_spent_on_the_page  100 non-null    float64 \n",
      " 4   converted               100 non-null    category\n",
      " 5   language_preferred      100 non-null    category\n",
      "dtypes: category(4), float64(1), int64(1)\n",
      "memory usage: 2.5 KB\n"
     ]
    }
   ],
   "source": [
    "df.info()"
   ]
  },
  {
   "cell_type": "markdown",
   "metadata": {
    "id": "4uJNS_5QYQPp"
   },
   "source": [
    "### Check for missing values"
   ]
  },
  {
   "cell_type": "code",
   "execution_count": 9,
   "metadata": {
    "colab": {
     "base_uri": "https://localhost:8080/"
    },
    "id": "UWP1fTeFYPR6",
    "outputId": "c463b1cf-29c7-4c9f-8812-245450a7d0ec"
   },
   "outputs": [
    {
     "data": {
      "text/plain": [
       "user_id                   0\n",
       "group                     0\n",
       "landing_page              0\n",
       "time_spent_on_the_page    0\n",
       "converted                 0\n",
       "language_preferred        0\n",
       "dtype: int64"
      ]
     },
     "execution_count": 9,
     "metadata": {},
     "output_type": "execute_result"
    }
   ],
   "source": [
    "df.isna().sum()   #null value check"
   ]
  },
  {
   "cell_type": "markdown",
   "metadata": {
    "id": "o6URJp5SYW5w"
   },
   "source": [
    "* There are no missing values in any of the column"
   ]
  },
  {
   "cell_type": "markdown",
   "metadata": {
    "id": "mruZA7z6YgrW"
   },
   "source": [
    "### Five point summary of continuous variables"
   ]
  },
  {
   "cell_type": "code",
   "execution_count": 10,
   "metadata": {
    "colab": {
     "base_uri": "https://localhost:8080/",
     "height": 80
    },
    "id": "C_WuA23RYkjv",
    "outputId": "ddb773be-7351-4324-8d09-159c9d181d3a"
   },
   "outputs": [
    {
     "data": {
      "text/html": [
       "<div>\n",
       "<style scoped>\n",
       "    .dataframe tbody tr th:only-of-type {\n",
       "        vertical-align: middle;\n",
       "    }\n",
       "\n",
       "    .dataframe tbody tr th {\n",
       "        vertical-align: top;\n",
       "    }\n",
       "\n",
       "    .dataframe thead th {\n",
       "        text-align: right;\n",
       "    }\n",
       "</style>\n",
       "<table border=\"1\" class=\"dataframe\">\n",
       "  <thead>\n",
       "    <tr style=\"text-align: right;\">\n",
       "      <th></th>\n",
       "      <th>count</th>\n",
       "      <th>mean</th>\n",
       "      <th>std</th>\n",
       "      <th>min</th>\n",
       "      <th>25%</th>\n",
       "      <th>50%</th>\n",
       "      <th>75%</th>\n",
       "      <th>max</th>\n",
       "    </tr>\n",
       "  </thead>\n",
       "  <tbody>\n",
       "    <tr>\n",
       "      <th>time_spent_on_the_page</th>\n",
       "      <td>100.0</td>\n",
       "      <td>5.3778</td>\n",
       "      <td>2.378166</td>\n",
       "      <td>0.19</td>\n",
       "      <td>3.88</td>\n",
       "      <td>5.415</td>\n",
       "      <td>7.0225</td>\n",
       "      <td>10.71</td>\n",
       "    </tr>\n",
       "  </tbody>\n",
       "</table>\n",
       "</div>"
      ],
      "text/plain": [
       "                        count    mean       std   min   25%    50%     75%  \\\n",
       "time_spent_on_the_page  100.0  5.3778  2.378166  0.19  3.88  5.415  7.0225   \n",
       "\n",
       "                          max  \n",
       "time_spent_on_the_page  10.71  "
      ]
     },
     "execution_count": 10,
     "metadata": {},
     "output_type": "execute_result"
    }
   ],
   "source": [
    "df.describe(include = ['float64']).T"
   ]
  },
  {
   "cell_type": "markdown",
   "metadata": {
    "id": "cJE-xbCcYnkg"
   },
   "source": [
    "* The time spent on the landing page is less than 11 minutes\n",
    "* The mean time spent on the landing page is approximately 5 minutes.\n",
    "* The median time spent on the landing page is approximately 5 minutes."
   ]
  },
  {
   "cell_type": "markdown",
   "metadata": {
    "id": "NpQdfIcWYqoY"
   },
   "source": [
    "### Summary of categorical variables"
   ]
  },
  {
   "cell_type": "code",
   "execution_count": 11,
   "metadata": {
    "colab": {
     "base_uri": "https://localhost:8080/",
     "height": 204
    },
    "id": "OhKdD77oYuNH",
    "outputId": "dde1b249-617f-4368-dc48-e2733aec8a76"
   },
   "outputs": [
    {
     "data": {
      "text/html": [
       "<div>\n",
       "<style scoped>\n",
       "    .dataframe tbody tr th:only-of-type {\n",
       "        vertical-align: middle;\n",
       "    }\n",
       "\n",
       "    .dataframe tbody tr th {\n",
       "        vertical-align: top;\n",
       "    }\n",
       "\n",
       "    .dataframe thead th {\n",
       "        text-align: right;\n",
       "    }\n",
       "</style>\n",
       "<table border=\"1\" class=\"dataframe\">\n",
       "  <thead>\n",
       "    <tr style=\"text-align: right;\">\n",
       "      <th></th>\n",
       "      <th>count</th>\n",
       "      <th>unique</th>\n",
       "      <th>top</th>\n",
       "      <th>freq</th>\n",
       "    </tr>\n",
       "  </thead>\n",
       "  <tbody>\n",
       "    <tr>\n",
       "      <th>group</th>\n",
       "      <td>100</td>\n",
       "      <td>2</td>\n",
       "      <td>treatment</td>\n",
       "      <td>50</td>\n",
       "    </tr>\n",
       "    <tr>\n",
       "      <th>landing_page</th>\n",
       "      <td>100</td>\n",
       "      <td>2</td>\n",
       "      <td>old</td>\n",
       "      <td>50</td>\n",
       "    </tr>\n",
       "    <tr>\n",
       "      <th>converted</th>\n",
       "      <td>100</td>\n",
       "      <td>2</td>\n",
       "      <td>yes</td>\n",
       "      <td>54</td>\n",
       "    </tr>\n",
       "    <tr>\n",
       "      <th>language_preferred</th>\n",
       "      <td>100</td>\n",
       "      <td>3</td>\n",
       "      <td>Spanish</td>\n",
       "      <td>34</td>\n",
       "    </tr>\n",
       "  </tbody>\n",
       "</table>\n",
       "</div>"
      ],
      "text/plain": [
       "                   count unique        top freq\n",
       "group                100      2  treatment   50\n",
       "landing_page         100      2        old   50\n",
       "converted            100      2        yes   54\n",
       "language_preferred   100      3    Spanish   34"
      ]
     },
     "execution_count": 11,
     "metadata": {},
     "output_type": "execute_result"
    }
   ],
   "source": [
    "df.describe(include = ['category']).T"
   ]
  },
  {
   "cell_type": "code",
   "execution_count": 12,
   "metadata": {
    "colab": {
     "base_uri": "https://localhost:8080/"
    },
    "id": "9HZsw_k4ttHO",
    "outputId": "32710870-c0e0-4d7c-88b4-8dc9ab06f301"
   },
   "outputs": [
    {
     "data": {
      "text/plain": [
       "treatment    50\n",
       "control      50\n",
       "Name: group, dtype: int64"
      ]
     },
     "execution_count": 12,
     "metadata": {},
     "output_type": "execute_result"
    }
   ],
   "source": [
    "df['group'].value_counts()"
   ]
  },
  {
   "cell_type": "code",
   "execution_count": 13,
   "metadata": {
    "colab": {
     "base_uri": "https://localhost:8080/"
    },
    "id": "m_MUXfW3L6kh",
    "outputId": "aa057faf-4f82-44df-b859-9b4ebdb82744"
   },
   "outputs": [
    {
     "data": {
      "text/plain": [
       "old    50\n",
       "new    50\n",
       "Name: landing_page, dtype: int64"
      ]
     },
     "execution_count": 13,
     "metadata": {},
     "output_type": "execute_result"
    }
   ],
   "source": [
    "df['landing_page'].value_counts()"
   ]
  },
  {
   "cell_type": "code",
   "execution_count": 14,
   "metadata": {
    "colab": {
     "base_uri": "https://localhost:8080/"
    },
    "id": "ZSL3tclkMM8V",
    "outputId": "c9f0b94d-0d55-4dfa-a5b4-1a863eb2b493"
   },
   "outputs": [
    {
     "data": {
      "text/plain": [
       "yes    54\n",
       "no     46\n",
       "Name: converted, dtype: int64"
      ]
     },
     "execution_count": 14,
     "metadata": {},
     "output_type": "execute_result"
    }
   ],
   "source": [
    "df['converted'].value_counts()"
   ]
  },
  {
   "cell_type": "code",
   "execution_count": 15,
   "metadata": {
    "colab": {
     "base_uri": "https://localhost:8080/"
    },
    "id": "8J2VXXhoMtlc",
    "outputId": "6d545ac1-3d36-4ec3-a0a9-b09bf87a9c9f"
   },
   "outputs": [
    {
     "data": {
      "text/plain": [
       "Spanish    34\n",
       "French     34\n",
       "English    32\n",
       "Name: language_preferred, dtype: int64"
      ]
     },
     "execution_count": 15,
     "metadata": {},
     "output_type": "execute_result"
    }
   ],
   "source": [
    "df['language_preferred'].value_counts()"
   ]
  },
  {
   "cell_type": "markdown",
   "metadata": {
    "id": "EFVdy5WmtYug"
   },
   "source": [
    "* There are 100 unique users.\n",
    "* There are 2 unique groups - control and treatment. Each group consists of 50 users.\n",
    "* There are 2 landing_pages - new and old.\n",
    "* Overall, 55 users get converted and 45 users do not get converted after visiting the landing page.\n",
    "* There are 3 unique preferred languages - English, French, and Spanish."
   ]
  },
  {
   "cell_type": "markdown",
   "metadata": {
    "id": "6-ibd3yLNBfb"
   },
   "source": [
    "### Univariate Analysis"
   ]
  },
  {
   "cell_type": "code",
   "execution_count": 16,
   "metadata": {},
   "outputs": [],
   "source": [
    "# function to plot a boxplot and a histogram along the same scale.\n",
    "\n",
    "\n",
    "def histogram_boxplot(data, feature, figsize=(12, 7), kde=False, bins=None):\n",
    "    \"\"\"\n",
    "    Boxplot and histogram combined\n",
    "\n",
    "    data: dataframe\n",
    "    feature: dataframe column\n",
    "    figsize: size of figure (default (12,7))\n",
    "    kde: whether to show the density curve (default False)\n",
    "    bins: number of bins for histogram (default None)\n",
    "    \"\"\"\n",
    "    f2, (ax_box2, ax_hist2) = plt.subplots(\n",
    "        nrows=2,  # Number of rows of the subplot grid= 2\n",
    "        sharex=True,  # x-axis will be shared among all subplots\n",
    "        gridspec_kw={\"height_ratios\": (0.25, 0.75)},\n",
    "        figsize=figsize,\n",
    "    )  # creating the 2 subplots\n",
    "    sns.boxplot(\n",
    "        data=data, x=feature, ax=ax_box2, showmeans=True, color=\"violet\"\n",
    "    )  # boxplot will be created and a star will indicate the mean value of the column\n",
    "    sns.histplot(\n",
    "        data=data, x=feature, kde=kde, ax=ax_hist2, bins=bins, palette=\"winter\"\n",
    "    ) if bins else sns.histplot(\n",
    "        data=data, x=feature, kde=kde, ax=ax_hist2\n",
    "    )  # For histogram\n",
    "    ax_hist2.axvline(\n",
    "        data[feature].mean(), color=\"green\", linestyle=\"--\"\n",
    "    )  # Add mean to the histogram\n",
    "    ax_hist2.axvline(\n",
    "        data[feature].median(), color=\"black\", linestyle=\"-\"\n",
    "    )  # Add median to the histogram"
   ]
  },
  {
   "cell_type": "markdown",
   "metadata": {
    "id": "M1MZuptcN5gy"
   },
   "source": [
    "#### Time spent on the page"
   ]
  },
  {
   "cell_type": "code",
   "execution_count": 17,
   "metadata": {
    "colab": {
     "base_uri": "https://localhost:8080/",
     "height": 558
    },
    "id": "SkqQII6ZNJ17",
    "outputId": "dc0c846e-5189-411a-ca23-34d663e1acbe"
   },
   "outputs": [
    {
     "data": {
      "image/png": "[encoded data removed]",
      "text/plain": [
       "<Figure size 864x504 with 2 Axes>"
      ]
     },
     "metadata": {
      "needs_background": "light"
     },
     "output_type": "display_data"
    }
   ],
   "source": [
    "histogram_boxplot(df,\"time_spent_on_the_page\")"
   ]
  },
  {
   "cell_type": "markdown",
   "metadata": {
    "id": "969NLf2QNd6P"
   },
   "source": [
    "* The time spent on the page looks to have a fairly normal distribution.\n",
    "* There are no outliers in this column."
   ]
  },
  {
   "cell_type": "code",
   "execution_count": 18,
   "metadata": {},
   "outputs": [],
   "source": [
    "# function to create labeled barplots\n",
    "\n",
    "\n",
    "def labeled_barplot(data, feature, perc=False, n=None):\n",
    "    \"\"\"\n",
    "    Barplot with percentage at the top\n",
    "\n",
    "    data: dataframe\n",
    "    feature: dataframe column\n",
    "    perc: whether to display percentages instead of count (default is False)\n",
    "    n: displays the top n category levels (default is None, i.e., display all levels)\n",
    "    \"\"\"\n",
    "\n",
    "    total = len(data[feature])  # length of the column\n",
    "    count = data[feature].nunique()\n",
    "    if n is None:\n",
    "        plt.figure(figsize=(count + 1, 5))\n",
    "    else:\n",
    "        plt.figure(figsize=(n + 1, 5))\n",
    "\n",
    "    plt.xticks(rotation=90, fontsize=15)\n",
    "    ax = sns.countplot(data=data, x=feature, palette=\"Paired\", order=data[feature].value_counts().index[:n].sort_values())\n",
    "\n",
    "    for p in ax.patches:\n",
    "        if perc == True:\n",
    "            label = \"{:.1f}%\".format(100 * p.get_height() / total)  # percentage of each class of the category\n",
    "        else:\n",
    "            label = p.get_height()  # count of each level of the category\n",
    "\n",
    "        x = p.get_x() + p.get_width() / 2  # width of the plot\n",
    "        y = p.get_height()      # height of the plot\n",
    "\n",
    "        ax.annotate(label, (x, y), ha=\"center\", va=\"center\", size=12, xytext=(0, 5), textcoords=\"offset points\")  # annotate the percentage\n",
    "\n",
    "    plt.show()  # show the plot"
   ]
  },
  {
   "cell_type": "markdown",
   "metadata": {
    "id": "u5PXu0liOB-1"
   },
   "source": [
    "#### Group"
   ]
  },
  {
   "cell_type": "code",
   "execution_count": 19,
   "metadata": {},
   "outputs": [
    {
     "data": {
      "image/png": "[encoded data removed]",
      "text/plain": [
       "<Figure size 216x360 with 1 Axes>"
      ]
     },
     "metadata": {
      "needs_background": "light"
     },
     "output_type": "display_data"
    }
   ],
   "source": [
    "labeled_barplot(df,'group',perc = True)"
   ]
  },
  {
   "cell_type": "markdown",
   "metadata": {
    "id": "iu4kyhN9OT5F"
   },
   "source": [
    "* The distribution of observations across groups are the same."
   ]
  },
  {
   "cell_type": "markdown",
   "metadata": {
    "id": "bBleYenwOXgm"
   },
   "source": [
    "#### Landing page"
   ]
  },
  {
   "cell_type": "code",
   "execution_count": 20,
   "metadata": {},
   "outputs": [
    {
     "data": {
      "image/png": "[encoded data removed]",
      "text/plain": [
       "<Figure size 216x360 with 1 Axes>"
      ]
     },
     "metadata": {
      "needs_background": "light"
     },
     "output_type": "display_data"
    }
   ],
   "source": [
    "labeled_barplot(df,'landing_page',perc=True)"
   ]
  },
  {
   "cell_type": "markdown",
   "metadata": {
    "id": "YtilQ1V_Omm-"
   },
   "source": [
    "* The distribution of observations across the two landing pages are same."
   ]
  },
  {
   "cell_type": "markdown",
   "metadata": {
    "id": "7Iq5zEX_OrCC"
   },
   "source": [
    "#### Converted"
   ]
  },
  {
   "cell_type": "code",
   "execution_count": 21,
   "metadata": {},
   "outputs": [
    {
     "data": {
      "image/png": "[encoded data removed]",
      "text/plain": [
       "<Figure size 216x360 with 1 Axes>"
      ]
     },
     "metadata": {
      "needs_background": "light"
     },
     "output_type": "display_data"
    }
   ],
   "source": [
    "labeled_barplot(df,'converted',perc=True)"
   ]
  },
  {
   "cell_type": "markdown",
   "metadata": {
    "id": "X6qfwlmyO7U3"
   },
   "source": [
    "* 54% of the users get converted after visiting the landing page.\n",
    "* 46% of the users do not get converted after visiting the landing page."
   ]
  },
  {
   "cell_type": "markdown",
   "metadata": {
    "id": "jOPoPOMxPJdF"
   },
   "source": [
    "#### Preferred language"
   ]
  },
  {
   "cell_type": "code",
   "execution_count": 22,
   "metadata": {},
   "outputs": [
    {
     "data": {
      "image/png": "[encoded data removed]",
      "text/plain": [
       "<Figure size 288x360 with 1 Axes>"
      ]
     },
     "metadata": {
      "needs_background": "light"
     },
     "output_type": "display_data"
    }
   ],
   "source": [
    "labeled_barplot(df,'language_preferred',perc=True)"
   ]
  },
  {
   "cell_type": "markdown",
   "metadata": {
    "id": "BuSfDQnPPYYR"
   },
   "source": [
    "* The distribution of observations across various preferred languages is fairly uniform."
   ]
  },
  {
   "cell_type": "markdown",
   "metadata": {
    "id": "ZhVuH6lCPui8"
   },
   "source": [
    "### Bivariate Analysis"
   ]
  },
  {
   "cell_type": "markdown",
   "metadata": {
    "id": "u0GpnHwJT7BL"
   },
   "source": [
    "#### Landing page vs Time spent on the page"
   ]
  },
  {
   "cell_type": "code",
   "execution_count": 23,
   "metadata": {
    "colab": {
     "base_uri": "https://localhost:8080/",
     "height": 742
    },
    "id": "QbPSpbMoPxYL",
    "outputId": "e5e68652-2a8c-4680-c097-cbba0c9b03f2"
   },
   "outputs": [
    {
     "data": {
      "image/png": "[encoded data removed]",
      "text/plain": [
       "<Figure size 648x648 with 1 Axes>"
      ]
     },
     "metadata": {
      "needs_background": "light"
     },
     "output_type": "display_data"
    }
   ],
   "source": [
    "plt.figure(figsize=(9, 9))\n",
    "sns.histplot(data = df, x = 'time_spent_on_the_page', hue = 'landing_page')\n",
    "plt.show()"
   ]
  },
  {
   "cell_type": "markdown",
   "metadata": {
    "id": "dMoRB8KvWbi4"
   },
   "source": [
    "* Overall, the time spent on the new page seems to be greater than the time spent on the new page."
   ]
  },
  {
   "cell_type": "markdown",
   "metadata": {
    "id": "lW5_KzOPVeEg"
   },
   "source": [
    "#### Conversion status vs Time spent on the page"
   ]
  },
  {
   "cell_type": "code",
   "execution_count": 24,
   "metadata": {},
   "outputs": [
    {
     "data": {
      "image/png": "[encoded data removed]",
      "text/plain": [
       "<Figure size 576x576 with 1 Axes>"
      ]
     },
     "metadata": {
      "needs_background": "light"
     },
     "output_type": "display_data"
    }
   ],
   "source": [
    "plt.figure(figsize=(8,8))\n",
    "sns.histplot(data = df, x = 'time_spent_on_the_page', hue = 'converted')\n",
    "plt.show()"
   ]
  },
  {
   "cell_type": "markdown",
   "metadata": {
    "id": "rzMHix_UWqSh"
   },
   "source": [
    "* Overall, the users who get converted seem to spend more time on the page. "
   ]
  },
  {
   "cell_type": "markdown",
   "metadata": {
    "id": "uEycP66dVvt9"
   },
   "source": [
    "#### Preferred language vs Time spent on the page"
   ]
  },
  {
   "cell_type": "code",
   "execution_count": 25,
   "metadata": {
    "colab": {
     "base_uri": "https://localhost:8080/",
     "height": 850
    },
    "id": "__cxc_olV3K-",
    "outputId": "58431f98-932b-45c4-a58b-e57bc073f107",
    "scrolled": false
   },
   "outputs": [
    {
     "data": {
      "image/png": "[encoded data removed]",
      "text/plain": [
       "<Figure size 576x576 with 1 Axes>"
      ]
     },
     "metadata": {
      "needs_background": "light"
     },
     "output_type": "display_data"
    }
   ],
   "source": [
    "plt.figure(figsize=(8,8))\n",
    "sns.boxplot(x = 'language_preferred', y = 'time_spent_on_the_page', showmeans = True, data = df)\n",
    "plt.show()"
   ]
  },
  {
   "cell_type": "markdown",
   "metadata": {},
   "source": [
    "* The median time spent by the different language users are approximately equal.\n",
    "* The mean time spent by the different language users are approximately equal."
   ]
  },
  {
   "cell_type": "markdown",
   "metadata": {
    "id": "eUHR4RKcS-1n"
   },
   "source": [
    "## 2. Do the users spend more time on the new landing page than the existing landing page?"
   ]
  },
  {
   "cell_type": "code",
   "execution_count": 26,
   "metadata": {
    "colab": {
     "base_uri": "https://localhost:8080/",
     "height": 389
    },
    "id": "w5uw-NhRidnJ",
    "outputId": "e29f61f3-ce1d-4bf8-8464-d4d8243630e6"
   },
   "outputs": [
    {
     "data": {
      "image/png": "[encoded data removed]",
      "text/plain": [
       "<Figure size 576x432 with 1 Axes>"
      ]
     },
     "metadata": {
      "needs_background": "light"
     },
     "output_type": "display_data"
    }
   ],
   "source": [
    "# visual analysis of the time spent on the new page\n",
    "# and the time spent on the old page\n",
    "plt.figure(figsize=(8,6))\n",
    "sns.boxplot(x = 'landing_page', y = 'time_spent_on_the_page', data = df)\n",
    "plt.show()"
   ]
  },
  {
   "cell_type": "markdown",
   "metadata": {
    "id": "aoBTMWdoi4OS"
   },
   "source": [
    "By observing the above plot, we can say that overall people spent more times on the new page than the old age. Let's perform a hypothesis test to see if there are enough statistical evidence to support our observation."
   ]
  },
  {
   "cell_type": "markdown",
   "metadata": {
    "id": "YFZ5crNSi5U1"
   },
   "source": [
    "## Step 1: Define the null and alternate hypotheses"
   ]
  },
  {
   "cell_type": "markdown",
   "metadata": {
    "id": "Kw8CF404i8eF"
   },
   "source": [
    "$H_0:$ The mean time spent by the users on the new page is equal to the mean time spent by the users on the old page.\n",
    "\n",
    "$H_a:$ The mean time spent by the users on the new page is greater than the mean time spent by the users on the old page.\n",
    "\n",
    "Let $\\mu_1$ and $\\mu_2$ be the mean time spent by the users on the new and old page respectively.\n",
    "\n",
    "Mathematically, the above formulated hypotheses can be written as:\n",
    "\n",
    "$H_0: \\mu_1 = \\mu_2$\n",
    "\n",
    "$H_a: \\mu_1 > \\mu_2$"
   ]
  },
  {
   "cell_type": "markdown",
   "metadata": {
    "id": "g6hywdn5jBnU"
   },
   "source": [
    "## Step 2: Select Appropriate test"
   ]
  },
  {
   "cell_type": "markdown",
   "metadata": {
    "id": "TYnC6dvljEv7"
   },
   "source": [
    "This is a one-tailed test concerning two population means from two independent populations. As the population standard deviations are unknown, the two sample independent t-test will be the appropriate test for this problem."
   ]
  },
  {
   "cell_type": "markdown",
   "metadata": {
    "id": "nTSD1L19jLCF"
   },
   "source": [
    "## Step 3: Decide the significance level"
   ]
  },
  {
   "cell_type": "markdown",
   "metadata": {
    "id": "m7s-JSnijNWQ"
   },
   "source": [
    "As given in the problem statement, we select α = 0.05."
   ]
  },
  {
   "cell_type": "markdown",
   "metadata": {
    "id": "KGvA4D8djPxk"
   },
   "source": [
    "## Step 4: Collect and prepare data"
   ]
  },
  {
   "cell_type": "code",
   "execution_count": 27,
   "metadata": {
    "id": "o7Yavz0mjToU"
   },
   "outputs": [],
   "source": [
    "time_spent_new = df[df['landing_page'] == 'new']['time_spent_on_the_page']\n",
    "time_spent_old = df[df['landing_page'] == 'old']['time_spent_on_the_page']"
   ]
  },
  {
   "cell_type": "code",
   "execution_count": 28,
   "metadata": {
    "colab": {
     "base_uri": "https://localhost:8080/"
    },
    "id": "QivaDmDsS-N1",
    "outputId": "e2a1c5f6-91c4-4a16-fe7e-0389bf46ff62"
   },
   "outputs": [
    {
     "name": "stdout",
     "output_type": "stream",
     "text": [
      "The sample standard deviation of the time spent on the new page is: 1.82\n",
      "The sample standard deviation of the time spent on the new page is: 2.58\n"
     ]
    }
   ],
   "source": [
    "print('The sample standard deviation of the time spent on the new page is:', round(time_spent_new.std(),2))\n",
    "print('The sample standard deviation of the time spent on the new page is:', round(time_spent_old.std(),2))"
   ]
  },
  {
   "cell_type": "markdown",
   "metadata": {
    "id": "sOAf6WyEpQ44"
   },
   "source": [
    "As the sample standard deviations are different, the population standard deviations may be assumed to be different."
   ]
  },
  {
   "cell_type": "markdown",
   "metadata": {
    "id": "xQeZl8HnpdkX"
   },
   "source": [
    "## Step 5: Calculate the p-value"
   ]
  },
  {
   "cell_type": "code",
   "execution_count": 29,
   "metadata": {
    "colab": {
     "base_uri": "https://localhost:8080/"
    },
    "id": "2xuXP2lTpgXk",
    "outputId": "5d1d41cc-2a54-4b83-c265-5d9489b55468"
   },
   "outputs": [
    {
     "name": "stdout",
     "output_type": "stream",
     "text": [
      "The p-value is 0.0001392381225166549\n"
     ]
    }
   ],
   "source": [
    "# import the required function\n",
    "from scipy.stats import ttest_ind\n",
    "# find the p-value\n",
    "test_stat, p_value = ttest_ind(time_spent_new, time_spent_old, equal_var = False, alternative = 'greater')\n",
    "print('The p-value is', p_value)"
   ]
  },
  {
   "cell_type": "markdown",
   "metadata": {
    "id": "iWCpBC5UqSi6"
   },
   "source": [
    "## Step 6: Compare the p-value with $\\alpha$"
   ]
  },
  {
   "cell_type": "code",
   "execution_count": 30,
   "metadata": {
    "colab": {
     "base_uri": "https://localhost:8080/"
    },
    "id": "J9764LVtqTUh",
    "outputId": "a06c5f50-d345-4c68-e960-a6e25d58b94c"
   },
   "outputs": [
    {
     "name": "stdout",
     "output_type": "stream",
     "text": [
      "As the p-value 0.0001392381225166549 is less than the level of significance, we reject the null hypothesis.\n"
     ]
    }
   ],
   "source": [
    "# print the conclusion based on p-value\n",
    "if p_value < 0.05:\n",
    "    print(f'As the p-value {p_value} is less than the level of significance, we reject the null hypothesis.')\n",
    "else:\n",
    "    print(f'As the p-value {p_value} is greater than the level of significance, we fail to reject the null hypothesis.')"
   ]
  },
  {
   "cell_type": "markdown",
   "metadata": {
    "id": "9wLO61tvqV3L"
   },
   "source": [
    "## Step 7:  Draw inference"
   ]
  },
  {
   "cell_type": "markdown",
   "metadata": {
    "id": "-E87MFG6qdGx"
   },
   "source": [
    "Since the p-value is less than the 5% significance level, we reject the null hypothesis. Hence, we have enough statistical evidence to say that the mean time spent by the users on the new page is greater than the mean time spent by the users on the old page."
   ]
  },
  {
   "cell_type": "markdown",
   "metadata": {
    "id": "ByMi2Yd5TGS_"
   },
   "source": [
    "## 3. Is the conversion rate (the proportion of users who visit the landing page and get converted) for the new page greater than the conversion rate for the old page?"
   ]
  },
  {
   "cell_type": "code",
   "execution_count": 31,
   "metadata": {
    "colab": {
     "base_uri": "https://localhost:8080/",
     "height": 650
    },
    "id": "kawWbn9mq5Iv",
    "outputId": "beefa8bc-b7b1-469b-f03e-755573843d53"
   },
   "outputs": [
    {
     "data": {
      "image/png": "[encoded data removed]",
      "text/plain": [
       "<Figure size 576x720 with 1 Axes>"
      ]
     },
     "metadata": {
      "needs_background": "light"
     },
     "output_type": "display_data"
    }
   ],
   "source": [
    "# visual analysis of the conversion rate for the new page and the conversion rate for the old page\n",
    "pd.crosstab(df['converted'],df['landing_page']).plot(kind=\"bar\", figsize=(8,10),\n",
    "                 stacked=True)\n",
    "plt.legend()\n",
    "plt.show()"
   ]
  },
  {
   "cell_type": "markdown",
   "metadata": {
    "id": "aV8ruqGXXc_4"
   },
   "source": [
    "By observing the above plot, we can say that overall the number of users who get converted is more for the new page than the old page. Let's perform a hypothesis test to see if there is enough statistical evidence to say that the conversion rate for the new page is greater than the old page."
   ]
  },
  {
   "cell_type": "markdown",
   "metadata": {
    "id": "3ITqSVzLq3Dr"
   },
   "source": [
    "## Step 1: Define the null and alternate hypotheses"
   ]
  },
  {
   "cell_type": "markdown",
   "metadata": {
    "id": "2mLWHORSq5wO"
   },
   "source": [
    "$H_0:$ The conversion rate for the new page is equal to the conversion rate for the old page.\n",
    "\n",
    "$H_a:$ The conversion rate for the new page is greater than the conversion rate for the old page.\n",
    "\n",
    "Let $p_1$ and $p_2$ be the conversion rate for the new and old page respectively.\n",
    "\n",
    "Mathematically, the above formulated hypotheses can be written as:\n",
    "\n",
    "$H_0: p_1 = p_2$\n",
    "\n",
    "$H_a: p_1 > p_2$"
   ]
  },
  {
   "cell_type": "markdown",
   "metadata": {
    "id": "nB4clAqOq7yS"
   },
   "source": [
    "## Step 2: Select Appropriate test"
   ]
  },
  {
   "cell_type": "markdown",
   "metadata": {
    "id": "9od66KJlq_AO"
   },
   "source": [
    "This is a one-tailed test concerning two population proportions from two independent populations. Hence, the two proportion z-test will be the appropriate test for this problem."
   ]
  },
  {
   "cell_type": "markdown",
   "metadata": {
    "id": "rNOl-HdvrB0L"
   },
   "source": [
    "## Step 3: Decide the significance level"
   ]
  },
  {
   "cell_type": "markdown",
   "metadata": {
    "id": "jrUtEJB1rDsz"
   },
   "source": [
    "As given in the problem statement, we select α = 0.05."
   ]
  },
  {
   "cell_type": "markdown",
   "metadata": {
    "id": "tQFN0Z_SrFxh"
   },
   "source": [
    "## Step 4: Collect and prepare data"
   ]
  },
  {
   "cell_type": "code",
   "execution_count": 32,
   "metadata": {
    "colab": {
     "base_uri": "https://localhost:8080/"
    },
    "id": "dEs9-0wurO1c",
    "outputId": "5878a8ed-4b86-4b9f-cda5-ee4257e28c8f"
   },
   "outputs": [
    {
     "name": "stdout",
     "output_type": "stream",
     "text": [
      "The numbers of converted users for the new and old pages are 33 and 21 respectively\n",
      "The numbers of users served the new and old pages are 50 and 50 respectively\n"
     ]
    }
   ],
   "source": [
    "new_converted = df[df['group'] == 'treatment']['converted'].value_counts()['yes']\n",
    "old_converted = df[df['group'] == 'control']['converted'].value_counts()['yes']\n",
    "print('The numbers of converted users for the new and old pages are {0} and {1} respectively'.format(new_converted, old_converted))\n",
    "n_control = df.group.value_counts()['control'] # number of users in the control group\n",
    "n_treatment = df.group.value_counts()['treatment'] #number of users in the treatment group\n",
    "print('The numbers of users served the new and old pages are {0} and {1} respectively'.format(n_control, n_treatment ))"
   ]
  },
  {
   "cell_type": "markdown",
   "metadata": {
    "id": "GOy1LU6IrQXR"
   },
   "source": [
    "## Step 5: Calculate the p-value"
   ]
  },
  {
   "cell_type": "code",
   "execution_count": 33,
   "metadata": {
    "colab": {
     "base_uri": "https://localhost:8080/"
    },
    "id": "OjCPM5vIrSax",
    "outputId": "9093af0b-e5c9-4878-e768-15d1db1ec406"
   },
   "outputs": [
    {
     "name": "stdout",
     "output_type": "stream",
     "text": [
      "The p-value is 0.008026308204056278\n"
     ]
    }
   ],
   "source": [
    "# import the required function\n",
    "from statsmodels.stats.proportion import proportions_ztest\n",
    "\n",
    "# find the p-value\n",
    "test_stat, p_value = proportions_ztest([new_converted, old_converted] , [n_treatment, n_control], alternative = 'larger')\n",
    "print('The p-value is', p_value)"
   ]
  },
  {
   "cell_type": "markdown",
   "metadata": {
    "id": "n9Nr8KoArbNA"
   },
   "source": [
    "## Step 6: Compare the p-value with $\\alpha$"
   ]
  },
  {
   "cell_type": "code",
   "execution_count": 34,
   "metadata": {
    "colab": {
     "base_uri": "https://localhost:8080/"
    },
    "id": "WlCPEPCvreZS",
    "outputId": "5919a7ce-2554-4129-a8c1-2d808839c27f"
   },
   "outputs": [
    {
     "name": "stdout",
     "output_type": "stream",
     "text": [
      "As the p-value 0.008026308204056278 is less than the level of significance, we reject the null hypothesis.\n"
     ]
    }
   ],
   "source": [
    "# print the conclusion based on p-value\n",
    "if p_value < 0.05:\n",
    "    print(f'As the p-value {p_value} is less than the level of significance, we reject the null hypothesis.')\n",
    "else:\n",
    "    print(f'As the p-value {p_value} is greater than the level of significance, we fail to reject the null hypothesis.')"
   ]
  },
  {
   "cell_type": "markdown",
   "metadata": {
    "id": "OlN5l8s-rgbs"
   },
   "source": [
    "## Step 7:  Draw inference"
   ]
  },
  {
   "cell_type": "markdown",
   "metadata": {
    "id": "3bErES7hrlDk"
   },
   "source": [
    "Since the p-value is less than the 5% significance level, we reject the null hypothesis. Hence, we have enough statistical evidence to say that the conversion rate for the new page is greater than the conversion rate for the old page."
   ]
  },
  {
   "cell_type": "markdown",
   "metadata": {
    "id": "E_zGye-Kbbie"
   },
   "source": [
    "## 4. Is the conversion and preferred language are independent or related?"
   ]
  },
  {
   "cell_type": "code",
   "execution_count": 35,
   "metadata": {
    "colab": {
     "base_uri": "https://localhost:8080/",
     "height": 650
    },
    "id": "Jo4danLzbk3c",
    "outputId": "f0a00c96-8366-476c-c2e8-459904a88586"
   },
   "outputs": [
    {
     "data": {
      "image/png": "[encoded data removed]",
      "text/plain": [
       "<Figure size 576x864 with 1 Axes>"
      ]
     },
     "metadata": {
      "needs_background": "light"
     },
     "output_type": "display_data"
    }
   ],
   "source": [
    "# visual analysis of the dependency between conversion status and preferred langauge\n",
    "pd.crosstab(df['converted'],df['language_preferred']).plot(kind=\"bar\", figsize=(8,12),\n",
    "                 stacked=True)\n",
    "plt.legend()\n",
    "plt.show()"
   ]
  },
  {
   "cell_type": "markdown",
   "metadata": {
    "id": "W5anW_cKYKLU"
   },
   "source": [
    "The distribution of conversion status for English and French language users is not uniformly distributed. Let's perform the hypothesis test to check whether we have enough statistical evidence to say that the conversion status and preferred language are independent or not."
   ]
  },
  {
   "cell_type": "markdown",
   "metadata": {
    "id": "8byrkc6hrvf-"
   },
   "source": [
    "## Step 1: Define the null and alternate hypotheses"
   ]
  },
  {
   "cell_type": "markdown",
   "metadata": {
    "id": "LSGu3A_MrxPK"
   },
   "source": [
    "$H_0:$ The converted status is independent of the preferred language.\n",
    "\n",
    "$H_a:$ The converted status is not independent of the preferred language."
   ]
  },
  {
   "cell_type": "markdown",
   "metadata": {
    "id": "Rwi5vIQdry3W"
   },
   "source": [
    "## Step 2: Select Appropriate test"
   ]
  },
  {
   "cell_type": "markdown",
   "metadata": {
    "id": "LJ8IC5lrr0qT"
   },
   "source": [
    "This is a problem of Chi-square test of independence, concerning the two independent categorical variables, converted status and preferred language."
   ]
  },
  {
   "cell_type": "markdown",
   "metadata": {
    "id": "H5Qyv0Mgr2Yb"
   },
   "source": [
    "## Step 3: Decide the significance level"
   ]
  },
  {
   "cell_type": "markdown",
   "metadata": {
    "id": "d5HLJ2KGr4DY"
   },
   "source": [
    "As given in the problem statement, we select α = 0.05."
   ]
  },
  {
   "cell_type": "markdown",
   "metadata": {
    "id": "anSFGxlCr514"
   },
   "source": [
    "## Step 4: Collect and prepare data"
   ]
  },
  {
   "cell_type": "code",
   "execution_count": 36,
   "metadata": {
    "id": "dRFi4joGr8lU"
   },
   "outputs": [
    {
     "data": {
      "text/html": [
       "<div>\n",
       "<style scoped>\n",
       "    .dataframe tbody tr th:only-of-type {\n",
       "        vertical-align: middle;\n",
       "    }\n",
       "\n",
       "    .dataframe tbody tr th {\n",
       "        vertical-align: top;\n",
       "    }\n",
       "\n",
       "    .dataframe thead th {\n",
       "        text-align: right;\n",
       "    }\n",
       "</style>\n",
       "<table border=\"1\" class=\"dataframe\">\n",
       "  <thead>\n",
       "    <tr style=\"text-align: right;\">\n",
       "      <th>language_preferred</th>\n",
       "      <th>English</th>\n",
       "      <th>French</th>\n",
       "      <th>Spanish</th>\n",
       "    </tr>\n",
       "    <tr>\n",
       "      <th>converted</th>\n",
       "      <th></th>\n",
       "      <th></th>\n",
       "      <th></th>\n",
       "    </tr>\n",
       "  </thead>\n",
       "  <tbody>\n",
       "    <tr>\n",
       "      <th>no</th>\n",
       "      <td>11</td>\n",
       "      <td>19</td>\n",
       "      <td>16</td>\n",
       "    </tr>\n",
       "    <tr>\n",
       "      <th>yes</th>\n",
       "      <td>21</td>\n",
       "      <td>15</td>\n",
       "      <td>18</td>\n",
       "    </tr>\n",
       "  </tbody>\n",
       "</table>\n",
       "</div>"
      ],
      "text/plain": [
       "language_preferred  English  French  Spanish\n",
       "converted                                   \n",
       "no                       11      19       16\n",
       "yes                      21      15       18"
      ]
     },
     "execution_count": 36,
     "metadata": {},
     "output_type": "execute_result"
    }
   ],
   "source": [
    "# create the contingency table showing the distribution of two categorical variables\n",
    "contingency_table = pd.crosstab(df['converted'], df['language_preferred'])\n",
    "contingency_table"
   ]
  },
  {
   "cell_type": "markdown",
   "metadata": {
    "id": "7e9wGX3-r-vc"
   },
   "source": [
    "## Step 5: Calculate the p-value"
   ]
  },
  {
   "cell_type": "code",
   "execution_count": 37,
   "metadata": {
    "id": "Er6kGJkYsAlq"
   },
   "outputs": [
    {
     "name": "stdout",
     "output_type": "stream",
     "text": [
      "The p-value is 0.21298887487543447\n"
     ]
    }
   ],
   "source": [
    "#import the required function\n",
    "from scipy.stats import chi2_contingency\n",
    "# use chi2_contingency() to find the p-value\n",
    "chi2, p_value, dof, exp_freq = chi2_contingency(contingency_table)\n",
    "# print the p-value\n",
    "print('The p-value is', p_value)"
   ]
  },
  {
   "cell_type": "markdown",
   "metadata": {
    "id": "gnskcscbsCK7"
   },
   "source": [
    "## Step 6: Compare the p-value with $\\alpha$"
   ]
  },
  {
   "cell_type": "code",
   "execution_count": 38,
   "metadata": {
    "id": "TAWEUmG7sEJN"
   },
   "outputs": [
    {
     "name": "stdout",
     "output_type": "stream",
     "text": [
      "As the p-value 0.21298887487543447 is greater than the level of significance, we fail to reject the null hypothesis.\n"
     ]
    }
   ],
   "source": [
    "# print the conclusion based on p-value\n",
    "if p_value < 0.05:\n",
    "    print(f'As the p-value {p_value} is less than the level of significance, we reject the null hypothesis.')\n",
    "else:\n",
    "    print(f'As the p-value {p_value} is greater than the level of significance, we fail to reject the null hypothesis.')"
   ]
  },
  {
   "cell_type": "markdown",
   "metadata": {
    "id": "gBGXeq2HsGXF"
   },
   "source": [
    "## Step 7:  Draw inference"
   ]
  },
  {
   "cell_type": "markdown",
   "metadata": {
    "id": "JZdMD0HosLg4"
   },
   "source": [
    "Since the p-value is greater than the 5% significance level, we fail to reject the null hypothesis. Hence, we do not have enough statistical evidence to say that the converted status depends on the preferred language."
   ]
  },
  {
   "cell_type": "markdown",
   "metadata": {
    "id": "FceYNDDsdfIC"
   },
   "source": [
    "## 5. Is the time spent on the new page same for the different language users?"
   ]
  },
  {
   "cell_type": "code",
   "execution_count": 39,
   "metadata": {
    "colab": {
     "base_uri": "https://localhost:8080/",
     "height": 389
    },
    "id": "u_wWeE2vsXSD",
    "outputId": "0221422b-b069-404e-fd17-c83597c343cd",
    "scrolled": false
   },
   "outputs": [
    {
     "data": {
      "image/png": "[encoded data removed]",
      "text/plain": [
       "<Figure size 576x576 with 1 Axes>"
      ]
     },
     "metadata": {
      "needs_background": "light"
     },
     "output_type": "display_data"
    }
   ],
   "source": [
    "# visual analysis of the mean time spent on the new page for different language users\n",
    "plt.figure(figsize=(8,8))\n",
    "# create a new DataFrame for users served the new page\n",
    "df_new = df[df['landing_page'] == 'new']\n",
    "sns.boxplot(x = 'language_preferred', y = 'time_spent_on_the_page', showmeans = True, data = df_new)\n",
    "plt.show()"
   ]
  },
  {
   "cell_type": "code",
   "execution_count": 40,
   "metadata": {
    "colab": {
     "base_uri": "https://localhost:8080/"
    },
    "id": "kocCWAB4sZyZ",
    "outputId": "1d9e10cb-a04b-4860-a76c-524b431bffea"
   },
   "outputs": [
    {
     "data": {
      "text/plain": [
       "language_preferred\n",
       "English    6.663750\n",
       "French     6.196471\n",
       "Spanish    5.835294\n",
       "Name: time_spent_on_the_page, dtype: float64"
      ]
     },
     "execution_count": 40,
     "metadata": {},
     "output_type": "execute_result"
    }
   ],
   "source": [
    "# Checking the mean time spent on the new page for different language users\n",
    "df_new.groupby(['language_preferred'])['time_spent_on_the_page'].mean()"
   ]
  },
  {
   "cell_type": "markdown",
   "metadata": {
    "id": "VXtWxHnQsagq"
   },
   "source": [
    "The mean time spent on the new page by English users is a bit higher than the mean time spent by French and Spanish users, but we need to test if this difference is statistically significant or not. "
   ]
  },
  {
   "cell_type": "markdown",
   "metadata": {
    "id": "oVHpZzopsdrs"
   },
   "source": [
    "## Step 1: Define the null and alternate hypotheses"
   ]
  },
  {
   "cell_type": "markdown",
   "metadata": {
    "id": "2tjTd9GHsf9D"
   },
   "source": [
    "$H_0:$ The mean times spent on the new page by English, French, and Spanish users are equal.\n",
    "\n",
    "$H_a:$ At least one of the mean times spent on the new page by English, French, and Spanish users is unequal."
   ]
  },
  {
   "cell_type": "markdown",
   "metadata": {
    "id": "JaJybnB-siq2"
   },
   "source": [
    "## Step 2: Select Appropriate test"
   ]
  },
  {
   "cell_type": "markdown",
   "metadata": {
    "id": "9LSNgmm_slop"
   },
   "source": [
    "This is a problem, concerning three population means. One-way ANOVA could be the appropriate test here provided normality and equality of variance assumptions are verified.\n",
    "\n",
    "* For testing of normality, Shapiro-Wilk’s test is applied to the response variable.\n",
    "\n",
    "* For equality of variance, Levene test is applied to the response variable."
   ]
  },
  {
   "cell_type": "markdown",
   "metadata": {
    "id": "NQo6IcsLsqiM"
   },
   "source": [
    "### Shapiro-Wilk’s test\n",
    "\n",
    "We will test the null hypothesis\n",
    "\n",
    ">$H_0:$ Time spent on the new page follows a normal distribution\n",
    "\n",
    "against the alternative hypothesis\n",
    "\n",
    ">$H_a:$ Time spent on the new page does not follow a normal distribution"
   ]
  },
  {
   "cell_type": "code",
   "execution_count": 41,
   "metadata": {
    "colab": {
     "base_uri": "https://localhost:8080/"
    },
    "id": "AxUUzmZasrM4",
    "outputId": "46610789-2303-4750-f586-49ba2c2aa070"
   },
   "outputs": [
    {
     "name": "stdout",
     "output_type": "stream",
     "text": [
      "The p-value is 0.8040016293525696\n"
     ]
    }
   ],
   "source": [
    "# Assumption 1: Normality\n",
    "# import the required function\n",
    "from scipy.stats import shapiro\n",
    "\n",
    "# find the p-value\n",
    "w, p_value = shapiro(df_new['time_spent_on_the_page']) \n",
    "print('The p-value is', p_value)"
   ]
  },
  {
   "cell_type": "markdown",
   "metadata": {
    "id": "NpCvOyfustjP"
   },
   "source": [
    "Since p-value of the test is very large than the 5% significance level, we fail to reject the null hypothesis that the response follows the normal distribution."
   ]
  },
  {
   "cell_type": "markdown",
   "metadata": {
    "id": "6DSOQn2fsvp4"
   },
   "source": [
    "### Levene’s test\n",
    "\n",
    "We will test the null hypothesis\n",
    "\n",
    ">$H_0$: All the population variances are equal\n",
    "\n",
    "against the alternative hypothesis\n",
    "\n",
    ">$H_a$: At least one variance is different from the rest"
   ]
  },
  {
   "cell_type": "code",
   "execution_count": 42,
   "metadata": {
    "colab": {
     "base_uri": "https://localhost:8080/"
    },
    "id": "rmYjwNIBsyJZ",
    "outputId": "db95cce1-cd3c-4b97-a116-a11f96857654"
   },
   "outputs": [
    {
     "name": "stdout",
     "output_type": "stream",
     "text": [
      "The p-value is 0.46711357711340173\n"
     ]
    }
   ],
   "source": [
    "#Assumption 2: Homogeneity of Variance\n",
    "#import the required function\n",
    "from scipy.stats import levene\n",
    "statistic, p_value = levene( df_new[df_new['language_preferred']==\"English\"]['time_spent_on_the_page'], \n",
    "                             df_new[df_new['language_preferred']==\"French\"]['time_spent_on_the_page'], \n",
    "                             df_new[df_new['language_preferred']==\"Spanish\"]['time_spent_on_the_page'])\n",
    "# find the p-value\n",
    "print('The p-value is', p_value)"
   ]
  },
  {
   "cell_type": "markdown",
   "metadata": {
    "id": "1JBkDmBws3Mf"
   },
   "source": [
    "Since the p-value is large than the 5% significance level, we fail to reject the null hypothesis of homogeneity of variances."
   ]
  },
  {
   "cell_type": "markdown",
   "metadata": {
    "id": "_saPvDsEs5Mw"
   },
   "source": [
    "## Step 3: Decide the significance level"
   ]
  },
  {
   "cell_type": "markdown",
   "metadata": {
    "id": "1lrcJnkZs7gR"
   },
   "source": [
    "As given in the problem statement, we select α = 0.05."
   ]
  },
  {
   "cell_type": "markdown",
   "metadata": {
    "id": "2AR1AnjTs72L"
   },
   "source": [
    "## Step 4: Collect and prepare data"
   ]
  },
  {
   "cell_type": "code",
   "execution_count": 43,
   "metadata": {
    "id": "BVbsWADgs54Q"
   },
   "outputs": [],
   "source": [
    "time_spent_English = df_new[df_new['language_preferred']==\"English\"]['time_spent_on_the_page']\n",
    "time_spent_French = df_new[df_new['language_preferred']==\"French\"]['time_spent_on_the_page']\n",
    "time_spent_Spanish = df_new[df_new['language_preferred']==\"Spanish\"]['time_spent_on_the_page']"
   ]
  },
  {
   "cell_type": "markdown",
   "metadata": {
    "id": "hgZgHh-Es_oP"
   },
   "source": [
    "## Step 5: Calculate the p-value"
   ]
  },
  {
   "cell_type": "code",
   "execution_count": 44,
   "metadata": {
    "colab": {
     "base_uri": "https://localhost:8080/"
    },
    "id": "LG0lNKSOtBoe",
    "outputId": "eee5e2a7-4bed-4497-f05a-c62477812717"
   },
   "outputs": [
    {
     "name": "stdout",
     "output_type": "stream",
     "text": [
      "The p-value is 0.43204138694325955\n"
     ]
    }
   ],
   "source": [
    "# import the required function\n",
    "from scipy.stats import f_oneway\n",
    "# find the p-value\n",
    "test_stat, p_value = f_oneway(time_spent_English, time_spent_French, time_spent_Spanish)\n",
    "# print the p-value\n",
    "print('The p-value is', p_value)"
   ]
  },
  {
   "cell_type": "markdown",
   "metadata": {
    "id": "daTZse70tFke"
   },
   "source": [
    "## Step 6: Compare the p-value with $\\alpha$"
   ]
  },
  {
   "cell_type": "code",
   "execution_count": 45,
   "metadata": {
    "id": "ZNmvCXDbtGDY"
   },
   "outputs": [
    {
     "name": "stdout",
     "output_type": "stream",
     "text": [
      "As the p-value 0.43204138694325955 is greater than the level of significance, we fail to reject the null hypothesis.\n"
     ]
    }
   ],
   "source": [
    "# print the conclusion based on p-value\n",
    "if p_value < 0.05:\n",
    "    print(f'As the p-value {p_value} is less than the level of significance, we reject the null hypothesis.')\n",
    "else:\n",
    "    print(f'As the p-value {p_value} is greater than the level of significance, we fail to reject the null hypothesis.')"
   ]
  },
  {
   "cell_type": "markdown",
   "metadata": {
    "id": "lwvUhqTAtJWG"
   },
   "source": [
    "## Step 7:  Draw inference"
   ]
  },
  {
   "cell_type": "markdown",
   "metadata": {
    "id": "7yrseNmVtNTA"
   },
   "source": [
    "Since the p-value is greater than the 5% significance level, we fail to reject the null hypothesis. Hence, we do not have enough statistical evidence to say that the mean times spent on the new page by English, French, and Spanish users differ to any meaningful degree."
   ]
  },
  {
   "cell_type": "markdown",
   "metadata": {
    "id": "2wW3CxiIY9co"
   },
   "source": [
    "## Conclusion\n",
    "\n",
    "- The users spend more time on the new page.\n",
    "\n",
    "- The conversion rate for the new page is greater than the conversion rate of the old page. \n",
    "\n",
    "- The conversion status is independent of the preferred language.\n",
    "\n",
    "- Based on the conclusions of the hypothesis tests, you can recommend that the news company should use the new landing page to gather more subscribers.\n",
    "\n",
    "- The longer a visitor spends on a site, the more likely he/she is to convert. So, the business logic would appear to be: design a page that people spend time in, conversion will follow. "
   ]
  }
 ],
 "metadata": {
  "colab": {
   "collapsed_sections": [],
   "name": "E-news Express Project.ipynb",
   "provenance": []
  },
  "kernelspec": {
   "display_name": "Python 3",
   "language": "python",
   "name": "python3"
  },
  "language_info": {
   "codemirror_mode": {
    "name": "ipython",
    "version": 3
   },
   "file_extension": ".py",
   "mimetype": "text/x-python",
   "name": "python",
   "nbconvert_exporter": "python",
   "pygments_lexer": "ipython3",
   "version": "3.8.8"
  }
 },
 "nbformat": 4,
 "nbformat_minor": 1
}
